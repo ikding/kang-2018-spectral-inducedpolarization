{
 "cells": [
  {
   "cell_type": "markdown",
   "metadata": {},
   "source": [
    "# Creating synthetic porphyry model and DC-IP data\n",
    "\n",
    "**Author**: Seogi Kang\n",
    "\n",
    "This notebook shows how we generated the 3D syntehtic porphyry model. \n",
    "By using the synthetic porphyry model, we run 3D DC and IP simulation to generate synthetic \n",
    "DC and IP data. \n",
    "Figures 3 and 4 in Kang and Oldenburg (2019) were generated using this notebook. "
   ]
  },
  {
   "cell_type": "markdown",
   "metadata": {},
   "source": [
    "## Create the synthetic porphyry model"
   ]
  },
  {
   "cell_type": "code",
   "execution_count": 1,
   "metadata": {},
   "outputs": [],
   "source": [
    "from SimPEG import DC, SIP\n",
    "import numpy as np\n",
    "from SimPEG import Mesh, Maps, Utils\n",
    "from pymatsolver import PardisoSolver\n",
    "from ipywidgets import *\n",
    "from matplotlib import colors\n",
    "from pylab import cm\n",
    "from matplotlib import gridspec\n",
    "import matplotlib.pyplot as plt\n",
    "import matplotlib\n",
    "matplotlib.rcParams['font.size'] = 14\n",
    "%matplotlib inline"
   ]
  },
  {
   "cell_type": "code",
   "execution_count": 2,
   "metadata": {},
   "outputs": [],
   "source": [
    "fig_dir = \"./figures/\""
   ]
  },
  {
   "cell_type": "code",
   "execution_count": 3,
   "metadata": {},
   "outputs": [
    {
     "name": "stderr",
     "output_type": "stream",
     "text": [
      "/Users/sgkang/Projects/simpeg/SimPEG/EM/Static/DC/IODC.py:232: UserWarning: code under construction - API might change in the future\n",
      "  \"code under construction - API might change in the future\"\n"
     ]
    }
   ],
   "source": [
    "IO, survey = DC.Utils.gen_3d_survey_from_2d_lines(\n",
    "    'dipole-dipole', 50, 50, 10, x0=-500, y0=-400,\n",
    "    line_length=1000., line_spacing=200., n_lines=5 \n",
    ")\n",
    "mesh, actind = IO.set_mesh(dx=12.5, dz=10., dy=25, dimension=3)\n",
    "# topo, mesh2d = DC.Utils.genTopography(mesh, 0., 200)\n",
    "# mesh, actind = IO.set_mesh(topo=np.c_[mesh2d.gridCC[:,0], mesh2d.gridCC[:,1], Utils.mkvc(topo)], dx=25., dz=15., dy=50, dimension=3)\n",
    "core_inds, mesh_core = Utils.ExtractCoreMesh(IO.xyzlim, mesh)"
   ]
  },
  {
   "cell_type": "code",
   "execution_count": 4,
   "metadata": {},
   "outputs": [
    {
     "name": "stdout",
     "output_type": "stream",
     "text": [
      "\n",
      "  TensorMesh: 130,000 cells\n",
      "\n",
      "                      MESH EXTENT             CELL WIDTH      FACTOR\n",
      "  dir    nC        min           max         min       max      max\n",
      "  ---   ---  ---------------------------  ------------------  ------\n",
      "   x    100       -823.22        823.22     12.50     78.44    1.30\n",
      "   y     52     -1,058.94      1,033.94     25.00    156.87    1.30\n",
      "   z     25       -408.58          0.00     10.00     62.75    1.30\n",
      "\n",
      "\n"
     ]
    }
   ],
   "source": [
    "print (mesh)"
   ]
  },
  {
   "cell_type": "code",
   "execution_count": 5,
   "metadata": {},
   "outputs": [],
   "source": [
    "def Circle2D(xc, r, n):\n",
    "    theta = np.linspace(-np.pi, np.pi, n)\n",
    "    x = r*np.cos(Utils.mkvc(theta))+xc[0]\n",
    "    y = r*np.sin(Utils.mkvc(theta))+xc[1]\n",
    "\n",
    "    return np.c_[x, y]"
   ]
  },
  {
   "cell_type": "code",
   "execution_count": 6,
   "metadata": {},
   "outputs": [],
   "source": [
    "# airind = mesh.gridCC[:,2] > 0.\n",
    "x0 = np.r_[-450, -450, 0.] \n",
    "x1 = np.r_[450, -450, 0.]\n",
    "x2 = np.r_[450, 450, 0.]\n",
    "x3 = np.r_[-450, 450, 0.]\n",
    "pts0 = np.vstack((x0, x1, x2, x3, x0))\n",
    "x0 = np.r_[-250, -250, -600.]\n",
    "x1 = np.r_[250, -250, -600.]\n",
    "x2 = np.r_[250, 250, -600.]\n",
    "x3 = np.r_[-250, 250, -600.]\n",
    "pts1 = np.vstack((x0, x1, x2, x3, x0))\n",
    "pts = np.vstack((pts0, pts1))\n",
    "inds_porphyry = Utils.ModelBuilder.PolygonInd(mesh, pts)\n",
    "inds_overburden = np.logical_and(mesh.gridCC[:,2]<0., mesh.gridCC[:,2]>-30.)\n",
    "np.random.seed(10)\n",
    "x = np.random.randint(-500, 500, size=(100))\n",
    "y = np.random.randint(-500, 500, size=(100))\n",
    "z = np.random.randint(-40, 0, size=(100))\n",
    "\n",
    "def get_random_blocks(xyz, mesh, dx=50, dy=50, dz=30):\n",
    "    inds = []\n",
    "    for i in range(xyz.shape[0]):\n",
    "        p0 = np.r_[xyz[i,0]-dx/2., xyz[i,1]+dy/2., xyz[i,2]+dz/2.]\n",
    "        p1 = np.r_[xyz[i,0]+dx/2., xyz[i,1]-dy/2., xyz[i,2]-dz/2.]\n",
    "        inds.append(Utils.ModelBuilder.getIndicesBlock(p0, p1,mesh.gridCC))\n",
    "    return np.hstack(inds)\n",
    "    \n",
    "inds_clay = get_random_blocks(np.c_[x, y, z], mesh)\n",
    "inds_mineralization = Utils.ModelBuilder.getIndicesBlock(\n",
    "    np.r_[100+100, 110, -50], np.r_[200+100, -100, -100.], mesh.gridCC\n",
    ")\n",
    "pts_0 = np.c_[Circle2D(np.r_[0, 0], 400, 20), np.zeros(20)]\n",
    "pts_1 = np.c_[Circle2D(np.r_[0, 0], 150, 20), np.ones(20)*-600]\n",
    "pts_halo = np.vstack((pts_0, pts_1))\n",
    "inds_halo = Utils.ModelBuilder.PolygonInd(mesh, pts_halo)\n",
    "\n",
    "pts_0 = np.c_[Circle2D(np.r_[0, 0], 250, 20), np.zeros(20)]\n",
    "pts_1 = np.c_[Circle2D(np.r_[0, 0], 10, 20), np.ones(20)*-600]\n",
    "pts_stock = np.vstack((pts_0, pts_1))\n",
    "inds_stock = Utils.ModelBuilder.PolygonInd(mesh, pts_stock)\n",
    "sig_background = 1./1000.\n",
    "sig_overburden = 1./900.\n",
    "sig_porphyry = 1./5000.\n",
    "sig_stock = 1./4500.\n",
    "sig_mineralization= 1./520.\n",
    "sig_halo= 1./500.\n",
    "sig_clay = 1./300.\n",
    "\n",
    "sig_air = 1e-8\n",
    "sigma = np.ones(mesh.nC)*sig_background\n",
    "sigma[inds_porphyry] = sig_porphyry\n",
    "sigma[inds_halo] = sig_halo\n",
    "sigma[inds_stock] = sig_stock\n",
    "sigma[inds_overburden] = sig_overburden\n",
    "sigma[inds_clay] = sig_clay\n",
    "sigma[inds_mineralization] = sig_mineralization\n",
    "sigma[~actind] = 1e-8\n",
    "sig = [sig_background, sig_overburden, sig_porphyry, sig_stock, sig_halo, sig_clay, sig_mineralization]"
   ]
  },
  {
   "cell_type": "code",
   "execution_count": 7,
   "metadata": {},
   "outputs": [],
   "source": [
    "geo = np.ones(mesh.nC) * np.nan\n",
    "for i, sig_temp in enumerate(sig):\n",
    "    geo[sigma==sig_temp] = i"
   ]
  },
  {
   "cell_type": "code",
   "execution_count": 8,
   "metadata": {},
   "outputs": [
    {
     "data": {
      "text/plain": [
       "['background',\n",
       " 'overburden',\n",
       " 'porphyry',\n",
       " 'stock',\n",
       " 'halo',\n",
       " 'clay',\n",
       " 'mineralization']"
      ]
     },
     "execution_count": 8,
     "metadata": {},
     "output_type": "execute_result"
    }
   ],
   "source": [
    "[\"background\", \"overburden\",\"porphyry\", \"stock\", \"halo\", \"clay\", \"mineralization\"]"
   ]
  },
  {
   "cell_type": "code",
   "execution_count": 9,
   "metadata": {},
   "outputs": [],
   "source": [
    "eta = np.zeros(mesh.nC) + 1e-2\n",
    "eta[geo==4] = 0.1\n",
    "eta[geo==5] = 0.1\n",
    "eta[geo==6] = 0.1\n",
    "tau = np.ones(mesh.nC) *0.1\n",
    "tau[geo==4] = 0.5\n",
    "tau[geo==5] = 0.5\n",
    "tau[geo==6] = 5.\n",
    "c = np.ones(mesh.nC)\n",
    "c[geo==4] = 0.5\n",
    "c[geo==5] = 0.8\n",
    "c[geo==6] = 0.5"
   ]
  },
  {
   "cell_type": "markdown",
   "metadata": {},
   "source": [
    "### Extract 2D slice and save them to be used in  XXX"
   ]
  },
  {
   "cell_type": "code",
   "execution_count": 10,
   "metadata": {},
   "outputs": [],
   "source": [
    "indy = np.argwhere(mesh.vectorCCy==0)[0][0]"
   ]
  },
  {
   "cell_type": "code",
   "execution_count": 11,
   "metadata": {},
   "outputs": [],
   "source": [
    "sigma_2d = Utils.mkvc(mesh.r(sigma, format='M')[:,indy,:])\n",
    "eta_2d = Utils.mkvc(mesh.r(eta, format='M')[:,indy,:])\n",
    "tau_2d = Utils.mkvc(mesh.r(tau, format='M')[:,indy,:])\n",
    "c_2d = Utils.mkvc(mesh.r(c, format='M')[:,indy,:])"
   ]
  },
  {
   "cell_type": "code",
   "execution_count": 12,
   "metadata": {},
   "outputs": [],
   "source": [
    "import h5py\n",
    "def save_dict_to_hdf5(fname, dictionary):\n",
    "    \"\"\"\n",
    "    Save a dictionary to hdf5\n",
    "    \"\"\"\n",
    "    f = h5py.File(fname, \"w\")\n",
    "    for key in dictionary.keys():\n",
    "        dset = f.create_dataset(key, data=dictionary[key])\n",
    "    f.close()\n",
    "\n",
    "output_simulation = {\n",
    "    'sigma_2d': sigma_2d,\n",
    "    'eta_2d': eta_2d,\n",
    "    'tau_2d': tau_2d,\n",
    "    'c_2d': c_2d,\n",
    "}\n",
    "save_dict_to_hdf5('model_2d.h5', output_simulation)"
   ]
  },
  {
   "cell_type": "markdown",
   "metadata": {},
   "source": [
    "### Plot all conductivity and all SE parameters"
   ]
  },
  {
   "cell_type": "code",
   "execution_count": 13,
   "metadata": {},
   "outputs": [
    {
     "name": "stderr",
     "output_type": "stream",
     "text": [
      "/Users/sgkang/anaconda3/lib/python3.7/site-packages/matplotlib/colorbar.py:600: UserWarning: set_ticks() must have been called.\n",
      "  warnings.warn(\"set_ticks() must have been called.\")\n"
     ]
    },
    {
     "data": {
      "text/plain": [
       "Text(0.5, 0, 'x (m)')"
      ]
     },
     "execution_count": 13,
     "metadata": {},
     "output_type": "execute_result"
    },
    {
     "data": {
      "image/png": "[encoded data removed]",
      "text/plain": [
       "<Figure size 633.6x792 with 8 Axes>"
      ]
     },
     "metadata": {
      "needs_background": "light"
     },
     "output_type": "display_data"
    }
   ],
   "source": [
    "props = [1./sigma[core_inds], eta[core_inds], tau[core_inds], c[core_inds]]\n",
    "cmaps = ['viridis', 'magma', 'plasma', 'inferno_r']\n",
    "labels = [\n",
    "    \"Resistivity ($\\Omega$ m)\",\n",
    "    \"Chargeability (V/V)\",\n",
    "    \"Time constant (s)\",\n",
    "    \"Frequency component\"    \n",
    "]\n",
    "titles = [\n",
    "            '(a) $\\sigma_{\\infty}$', \n",
    "            '(b) $\\eta_{se}$',\n",
    "            '(c) $\\\\tau_{se}$',\n",
    "            '(d) $c_{se}$',    \n",
    "]\n",
    "clims  = [(300, 5000), (0.01, 0.1), (0.1, 10.), (0.3, 1.)]\n",
    "fig, axs = plt.subplots(4,1, figsize=(8*1.1, 10*1.1))\n",
    "for i, value in enumerate(props):\n",
    "    vmin, vmax = value.min(), value.max()\n",
    "    out = mesh_core.plotSlice(\n",
    "        value, grid=False, normal=\"Y\", clim=clims[i], pcolorOpts={'norm':colors.LogNorm(), 'cmap':cmaps[i]},\n",
    "        ax=axs[i]\n",
    "    )\n",
    "    axs[i].set_aspect(\"equal\")\n",
    "    cb = plt.colorbar(out[0], fraction=0.01, ax=axs[i])\n",
    "#     cb.set_ticks([vmin, vmax])\n",
    "    if i==0:\n",
    "        cb.set_ticks([300,1000,5000])\n",
    "        cb.set_ticklabels([300,1000,5000])\n",
    "    else:\n",
    "        cb.set_ticklabels(clims[i])\n",
    "    if i<3:\n",
    "        axs[i].set_xlabel(\"\")\n",
    "    axs[i].set_title(titles[i]+\" at y=0\")\n",
    "    cb.set_label(labels[i], fontsize = 12)\n",
    "    axs[i].set_ylabel(\"z (m)\")\n",
    "axs[-1].set_xlabel(\"x (m)\")\n",
    "# fig.savefig(fig_dir+\"porphyry_se_models\", dpi=200)"
   ]
  },
  {
   "cell_type": "markdown",
   "metadata": {},
   "source": [
    "### Plot porphry model"
   ]
  },
  {
   "cell_type": "code",
   "execution_count": 14,
   "metadata": {},
   "outputs": [
    {
     "data": {
      "image/png": "[encoded data removed]",
      "text/plain": [
       "<Figure size 864x504 with 3 Axes>"
      ]
     },
     "metadata": {
      "needs_background": "light"
     },
     "output_type": "display_data"
    }
   ],
   "source": [
    "\n",
    "yc = 0\n",
    "indy = int(np.argmin(abs(mesh_core.vectorCCy-yc)))\n",
    "zc = -90\n",
    "indz = int(np.argmin(abs(mesh_core.vectorCCz-zc)))\n",
    "\n",
    "geomap = cm.get_cmap('gnuplot', len(sig))\n",
    "fig = plt.figure(figsize=(12, 7))\n",
    "gs = gridspec.GridSpec(1, 8)\n",
    "ax1 = plt.subplot(gs[0, 3:])\n",
    "ax2 = plt.subplot(gs[0, :3])\n",
    "\n",
    "out = mesh_core.plotSlice(\n",
    "    geo[core_inds], grid=False, normal=\"Y\", clim=(0, 7), pcolorOpts={'cmap':geomap}, ax=ax1, ind=indy\n",
    ")\n",
    "ax1.set_aspect(\"equal\")\n",
    "ax1.set_title((\"y=%.1f m\")%(mesh_core.vectorCCy[indy]))\n",
    "\n",
    "out = mesh_core.plotSlice(\n",
    "    geo[core_inds], grid=False, normal=\"Z\", clim=(0, 7), ind=indz, pcolorOpts={'cmap':geomap}, \n",
    "    ax=ax2\n",
    ")\n",
    "ax2.set_aspect(1)\n",
    "ax2.set_title((\"z=%.1f m\")%(mesh_core.vectorCCz[indz]))\n",
    "ax2.plot(IO.electrode_locations[:,0], IO.electrode_locations[:,1], 'wx', markeredgewidth=1.)\n",
    "cb=plt.colorbar(\n",
    "    out[0], orientation=\"vertical\", ticks=np.arange(len(sig))+0.5, ax=ax1, fraction=0.02\n",
    ")\n",
    "cb.set_ticklabels([\"background\", \"overburden\", \"porphyry\", \"stock\", \"halo\", \"clay\", \"mineralization\"])\n",
    "\n",
    "for ax in [ax1, ax2]:\n",
    "    ax.set_xlim(-500, 500)\n",
    "ax2.set_ylabel(\"y (m)\")\n",
    "ax2.set_xlabel(\"x (m)\")\n",
    "ax1.set_ylabel(\"z (m)\")\n",
    "ax1.set_xlabel(\"x (m)\")\n",
    "    \n",
    "plt.tight_layout()\n",
    "fig.savefig(fig_dir+\"porphyry_model\", dpi=200)"
   ]
  },
  {
   "cell_type": "markdown",
   "metadata": {},
   "source": [
    "## Run DC simulation"
   ]
  },
  {
   "cell_type": "code",
   "execution_count": 15,
   "metadata": {},
   "outputs": [
    {
     "name": "stdout",
     "output_type": "stream",
     "text": [
      "SimPEG.Survey assigned new std of 5.00%\n"
     ]
    }
   ],
   "source": [
    "m_true = np.log(sigma[actind])\n",
    "actMap = Maps.InjectActiveCells(mesh, actind, np.log(1e-8))\n",
    "mapping = Maps.ExpMap(mesh) * actMap\n",
    "problem = DC.Problem3D_N(mesh, sigmaMap=mapping, storeJ=True)\n",
    "problem.Solver = PardisoSolver\n",
    "if survey.ispaired:\n",
    "    survey.unpair()\n",
    "problem.pair(survey)\n",
    "dobs = survey.makeSyntheticData(m_true, std=0.05, force=True)"
   ]
  },
  {
   "cell_type": "markdown",
   "metadata": {},
   "source": [
    "## Run SIP simulation"
   ]
  },
  {
   "cell_type": "code",
   "execution_count": 16,
   "metadata": {},
   "outputs": [
    {
     "name": "stdout",
     "output_type": "stream",
     "text": [
      "You did not put Active indices\n",
      "So, set actMap = IdentityMap(mesh)\n"
     ]
    },
    {
     "name": "stderr",
     "output_type": "stream",
     "text": [
      "/Users/sgkang/Projects/simpeg/SimPEG/Props.py:400: UserWarning: Cannot add model as there are no active mappings, choose from: ['cMap', 'etaMap', 'rhoMap', 'sigmaMap', 'tauMap', 'tauiMap']\n",
      "  \"', '\".join(self._all_map_names)\n"
     ]
    },
    {
     "name": "stdout",
     "output_type": "stream",
     "text": [
      "SimPEG.Survey assigned new std of 5.00%\n"
     ]
    },
    {
     "data": {
      "text/plain": [
       "array([-3.37284685e-02, -1.37826940e-02, -7.47290120e-03, ...,\n",
       "       -1.23535984e-05, -7.52654615e-06, -4.69395749e-06])"
      ]
     },
     "execution_count": 16,
     "metadata": {},
     "output_type": "execute_result"
    }
   ],
   "source": [
    "times = np.logspace(-3, np.log10(4.), 21)\n",
    "survey_sip = SIP.from_dc_to_sip_survey(survey, times)\n",
    "survey_sip.n_pulse = 2\n",
    "survey_sip.T = 16.\n",
    "problem_sip = SIP.Problem3D_N(\n",
    "    mesh, sigma=sigma, eta=eta, tau=tau, c=c,\n",
    "    storeJ=True,\n",
    "    Solver=PardisoSolver,\n",
    "#     data_type=\"apparent_chargeability\"\n",
    ")\n",
    "problem_sip.pair(survey_sip)\n",
    "survey_sip.makeSyntheticData([], std=0.05)"
   ]
  },
  {
   "cell_type": "code",
   "execution_count": 17,
   "metadata": {},
   "outputs": [],
   "source": [
    "dobs_sip = survey_sip.dobs.reshape((survey.nD, times.size), order='F')"
   ]
  },
  {
   "cell_type": "code",
   "execution_count": 18,
   "metadata": {},
   "outputs": [],
   "source": [
    "survey.getABMN_locations()\n",
    "!rm -f output_simulation_sip.h5"
   ]
  },
  {
   "cell_type": "code",
   "execution_count": 19,
   "metadata": {},
   "outputs": [],
   "source": [
    "import h5py\n",
    "mesh_name = 'mesh_core.txt'\n",
    "mesh_core.writeUBC(mesh_name)\n",
    "dobs_sip = survey_sip.dobs.reshape((survey.nD, times.size), order='F')\n",
    "output_simulation = {\n",
    "    'mesh_name': mesh_name,\n",
    "    'sigma': sigma[core_inds],\n",
    "    'eta': eta[core_inds],\n",
    "    'tau': tau[core_inds],\n",
    "    'c': c[core_inds],\n",
    "    'geology': geo[core_inds],\n",
    "    'a_locations': survey.a_locations,\n",
    "    'b_locations': survey.b_locations,\n",
    "    'm_locations': survey.m_locations,\n",
    "    'n_locations': survey.n_locations,\n",
    "    'line_inds':IO.line_inds,\n",
    "    'dc_data': survey.dobs,\n",
    "    'sip_data': dobs_sip,\n",
    "    'times': times\n",
    "}\n",
    "def save_dict_to_hdf5(fname, dictionary):\n",
    "    \"\"\"\n",
    "    Save a dictionary to hdf5\n",
    "    \"\"\"\n",
    "    f = h5py.File(fname, \"w\")\n",
    "    for key in dictionary.keys():\n",
    "        dset = f.create_dataset(key, data=dictionary[key])\n",
    "    f.close()\n",
    "# save_dict_to_hdf5('output_simulation_sip_stepoff.h5', output_simulation)\n",
    "save_dict_to_hdf5('output_simulation_sip.h5', output_simulation)"
   ]
  },
  {
   "cell_type": "code",
   "execution_count": 20,
   "metadata": {},
   "outputs": [],
   "source": [
    "import h5py\n",
    "mesh_name = 'mesh.txt'\n",
    "mesh.writeUBC(mesh_name)\n",
    "dobs_sip = survey_sip.dobs.reshape((survey.nD, times.size), order='F')\n",
    "output_simulation = {\n",
    "    'mesh_name': mesh_name,\n",
    "    'sigma': sigma,\n",
    "    'eta': eta,\n",
    "    'tau': tau,\n",
    "    'c': c,\n",
    "}\n",
    "save_dict_to_hdf5('model.h5', output_simulation)"
   ]
  }
 ],
 "metadata": {
  "anaconda-cloud": {},
  "kernelspec": {
   "display_name": "Python 3",
   "language": "python",
   "name": "python3"
  },
  "language_info": {
   "codemirror_mode": {
    "name": "ipython",
    "version": 3
   },
   "file_extension": ".py",
   "mimetype": "text/x-python",
   "name": "python",
   "nbconvert_exporter": "python",
   "pygments_lexer": "ipython3",
   "version": "3.7.3"
  }
 },
 "nbformat": 4,
 "nbformat_minor": 1
}
