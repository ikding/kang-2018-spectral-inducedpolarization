{
 "cells": [
  {
   "cell_type": "markdown",
   "metadata": {},
   "source": [
    "# DC, IP, and SIP inversions in 2D\n",
    "\n",
    "**Author**: Seogi Kang\n",
    "\n",
    "This is a core notebook which illustrates Section 3.3 in Kang and Oldenburg (2019). \n",
    "There are four main items in this notebook:\n",
    "\n",
    "1. DC inversion\n",
    "2. Conventional IP inversion\n",
    "3. Use 2 but sequentially apply for all time channels IP data to obtain pseudo-chargeabilties at multiple times\n",
    "4. Extract SE parameters from the obtained pseudo-chargeabilties (conventional)\n",
    "5. SIP inversion (invert multiple time channes of the IP data to recover distributed SE parameters)\n",
    "6. Comparison of 4 and 5\n",
    "\n",
    "Figures 7-11 in Kang and Oldenburg (2019) were generated using this notebook. "
   ]
  },
  {
   "cell_type": "code",
   "execution_count": 1,
   "metadata": {},
   "outputs": [],
   "source": [
    "from SimPEG import DC\n",
    "import numpy as np\n",
    "from SimPEG import Mesh, Maps, Utils\n",
    "from pymatsolver import PardisoSolver\n",
    "from ipywidgets import *\n",
    "from matplotlib import colors\n",
    "import h5py\n",
    "from pylab import cm\n",
    "from matplotlib import gridspec, rcParams\n",
    "import matplotlib.pyplot as plt\n",
    "import matplotlib\n",
    "rcParams['font.size'] = 14\n",
    "%matplotlib inline"
   ]
  },
  {
   "cell_type": "markdown",
   "metadata": {},
   "source": [
    "## Load model and data"
   ]
  },
  {
   "cell_type": "code",
   "execution_count": 2,
   "metadata": {},
   "outputs": [],
   "source": [
    "fname = 'output_simulation_sip.h5'\n",
    "output_simulation = h5py.File(fname, 'r')\n",
    "geology_names = np.array([\"background\", \"overburden\",\"porphyry\", \"stock\", \"halo\", \"clay\", \"mineralization\"], dtype=str),    "
   ]
  },
  {
   "cell_type": "code",
   "execution_count": 3,
   "metadata": {},
   "outputs": [],
   "source": [
    "from scipy.interpolate import interp1d"
   ]
  },
  {
   "cell_type": "code",
   "execution_count": 4,
   "metadata": {},
   "outputs": [],
   "source": [
    "fname = 'model_2d.h5'\n",
    "model_2d = h5py.File(fname, 'r')"
   ]
  },
  {
   "cell_type": "code",
   "execution_count": 5,
   "metadata": {},
   "outputs": [
    {
     "name": "stderr",
     "output_type": "stream",
     "text": [
      "/Users/sgkang/anaconda3/lib/python3.7/site-packages/h5py/_hl/dataset.py:313: H5pyDeprecationWarning: dataset.value has been deprecated. Use dataset[()] instead.\n",
      "  \"Use dataset[()] instead.\", H5pyDeprecationWarning)\n"
     ]
    }
   ],
   "source": [
    "sigma = model_2d['sigma_2d'].value\n",
    "eta = model_2d['eta_2d'].value\n",
    "tau = model_2d['tau_2d'].value\n",
    "c = model_2d['c_2d'].value"
   ]
  },
  {
   "cell_type": "code",
   "execution_count": 6,
   "metadata": {},
   "outputs": [
    {
     "name": "stderr",
     "output_type": "stream",
     "text": [
      "/Users/sgkang/Projects/simpeg/SimPEG/EM/Static/DC/IODC.py:232: UserWarning: code under construction - API might change in the future\n",
      "  \"code under construction - API might change in the future\"\n"
     ]
    }
   ],
   "source": [
    "IO_3d = DC.IO()\n",
    "survey_3d = IO_3d.from_ambn_locations_to_survey(\n",
    "    survey_type='dipole-dipole',\n",
    "    a_locations=output_simulation['a_locations'].value,\n",
    "    b_locations=output_simulation['b_locations'].value,\n",
    "    m_locations=output_simulation['m_locations'].value,\n",
    "    n_locations=output_simulation['n_locations'].value,\n",
    "    data_dc=output_simulation['dc_data'].value,\n",
    "    data_dc_type='volt',\n",
    "    data_sip=output_simulation['sip_data'].value,    \n",
    "    data_sip_type='volt',\n",
    "    line_inds = output_simulation['line_inds'].value,\n",
    "    dimension=3\n",
    ")"
   ]
  },
  {
   "cell_type": "code",
   "execution_count": 7,
   "metadata": {},
   "outputs": [],
   "source": [
    "fig_dir = \"./figures/\""
   ]
  },
  {
   "cell_type": "markdown",
   "metadata": {},
   "source": [
    "## Compute synthetic data"
   ]
  },
  {
   "cell_type": "markdown",
   "metadata": {},
   "source": [
    "### 2D DC data"
   ]
  },
  {
   "cell_type": "code",
   "execution_count": 8,
   "metadata": {},
   "outputs": [],
   "source": [
    "line_inds = IO_3d.line_inds == 2"
   ]
  },
  {
   "cell_type": "code",
   "execution_count": 9,
   "metadata": {},
   "outputs": [],
   "source": [
    "IO_2d = DC.IO()\n",
    "survey_2d = IO_2d.from_ambn_locations_to_survey(\n",
    "    survey_type='dipole-dipole',\n",
    "    a_locations=output_simulation['a_locations'].value[line_inds,:][:,[0, 2]],\n",
    "    b_locations=output_simulation['b_locations'].value[line_inds,:][:,[0, 2]],\n",
    "    m_locations=output_simulation['m_locations'].value[line_inds,:][:,[0, 2]],\n",
    "    n_locations=output_simulation['n_locations'].value[line_inds,:][:,[0, 2]],\n",
    "    data_dc=output_simulation['dc_data'].value[line_inds],\n",
    "    data_dc_type='volt',\n",
    "    data_sip=output_simulation['sip_data'].value[line_inds,:],    \n",
    "    data_sip_type='volt',\n",
    "    dimension=2\n",
    ")\n",
    "mesh_2d, actind = IO_2d.set_mesh(dx=12.5, dz=10.)\n",
    "actMap = Maps.InjectActiveCells(mesh_2d, actind, valInactive=np.log(1e-8))\n",
    "sigmaMap = Maps.ExpMap(mesh_2d)*actMap\n",
    "\n",
    "problem_dc = DC.Problem2D_N(\n",
    "    mesh_2d, sigmaMap=sigmaMap,\n",
    "    storeJ=True,\n",
    "    Solver=PardisoSolver\n",
    ")\n",
    "problem_dc.pair(survey_2d)\n",
    "core_2d_inds, mesh_2d_core = Utils.ExtractCoreMesh(IO_2d.xyzlim, mesh_2d)"
   ]
  },
  {
   "cell_type": "code",
   "execution_count": 10,
   "metadata": {},
   "outputs": [
    {
     "name": "stdout",
     "output_type": "stream",
     "text": [
      "SimPEG.Survey assigned new std of 5.00%\n"
     ]
    }
   ],
   "source": [
    "#  = survey_2d.dpred(np.log(sigma))\n",
    "np.random.seed(1)\n",
    "data_dc = survey_2d.makeSyntheticData(np.log(sigma), std=0.05, force=True)"
   ]
  },
  {
   "cell_type": "markdown",
   "metadata": {},
   "source": [
    "### 2D SIP data"
   ]
  },
  {
   "cell_type": "code",
   "execution_count": 11,
   "metadata": {},
   "outputs": [
    {
     "name": "stdout",
     "output_type": "stream",
     "text": [
      "You did not put Active indices\n",
      "So, set actMap = IdentityMap(mesh)\n"
     ]
    }
   ],
   "source": [
    "from SimPEG import SIP\n",
    "times = output_simulation['times'].value\n",
    "problem = SIP.Problem2D_N(\n",
    "    mesh_2d, sigma=sigma, eta=eta, tau=tau, c=c,\n",
    "    storeJ=True,\n",
    "    Solver=PardisoSolver,\n",
    ")\n",
    "survey_2d_sip = SIP.from_dc_to_sip_survey(survey_2d, times)\n",
    "survey_2d_sip.n_pulse = 2\n",
    "survey_2d_sip.T = 16.\n",
    "problem.pair(survey_2d_sip)"
   ]
  },
  {
   "cell_type": "code",
   "execution_count": 12,
   "metadata": {},
   "outputs": [
    {
     "data": {
      "text/plain": [
       "<SimPEG.Survey.Data at 0xd250bc2e8>"
      ]
     },
     "execution_count": 12,
     "metadata": {},
     "output_type": "execute_result"
    }
   ],
   "source": [
    "problem.set_dc_data(data_dc, dc_survey=survey_2d)"
   ]
  },
  {
   "cell_type": "code",
   "execution_count": 13,
   "metadata": {},
   "outputs": [
    {
     "name": "stderr",
     "output_type": "stream",
     "text": [
      "/Users/sgkang/Projects/simpeg/SimPEG/Props.py:400: UserWarning: Cannot add model as there are no active mappings, choose from: ['cMap', 'etaMap', 'rhoMap', 'sigmaMap', 'tauMap', 'tauiMap']\n",
      "  \"', '\".join(self._all_map_names)\n"
     ]
    },
    {
     "name": "stdout",
     "output_type": "stream",
     "text": [
      "SimPEG.Survey assigned new std of 5.00%\n"
     ]
    }
   ],
   "source": [
    "data_sip = survey_2d_sip.makeSyntheticData([], std=0.05)"
   ]
  },
  {
   "cell_type": "code",
   "execution_count": 14,
   "metadata": {},
   "outputs": [],
   "source": [
    "data_sip = data_sip.reshape((survey_2d.nD, times.size), order='F')"
   ]
  },
  {
   "cell_type": "code",
   "execution_count": 15,
   "metadata": {},
   "outputs": [],
   "source": [
    "G = IO_2d.geometric_factor(survey=survey_2d)"
   ]
  },
  {
   "cell_type": "code",
   "execution_count": null,
   "metadata": {},
   "outputs": [],
   "source": [
    "times = output_simulation['times'].value"
   ]
  },
  {
   "cell_type": "code",
   "execution_count": null,
   "metadata": {},
   "outputs": [],
   "source": [
    "# This is for typcial intergrated IP data\n",
    "def trapezoidal(times, data):\n",
    "    n = times.size\n",
    "    data_int = np.zeros(data.shape[0])\n",
    "    for ii in range(n-1):\n",
    "        dt = times[ii+1]-times[ii]\n",
    "        data_int += (data[:,ii+1] + data[:,ii]) / 2 * dt\n",
    "    return data_int / (times.max()-times.min())"
   ]
  },
  {
   "cell_type": "code",
   "execution_count": null,
   "metadata": {},
   "outputs": [],
   "source": [
    "data_ip_int = trapezoidal(times, data_sip)"
   ]
  },
  {
   "cell_type": "markdown",
   "metadata": {},
   "source": [
    "### Show DC and IP data"
   ]
  },
  {
   "cell_type": "code",
   "execution_count": null,
   "metadata": {},
   "outputs": [
    {
     "data": {
      "image/png": "[encoded data removed]",
      "text/plain": [
       "<Figure size 720x720 with 6 Axes>"
      ]
     },
     "metadata": {
      "needs_background": "light"
     },
     "output_type": "display_data"
    }
   ],
   "source": [
    "titles = [\"(a) DC data\", \"(b) IP data at 1ms\", \"(b) IP data at 4s\"]\n",
    "fig = plt.figure(figsize = (10, 10))\n",
    "ax1 = plt.subplot(311)\n",
    "ax2 = plt.subplot(312)\n",
    "ax3 = plt.subplot(313)\n",
    "IO_2d.plotPseudoSection(ax=ax1, data=data_dc/IO_2d.G)\n",
    "IO_2d.plotPseudoSection(\n",
    "    data_type='apparent_chargeability', data=data_sip[:,0]*1e3, scale='linear',\n",
    "    ax=ax2\n",
    ")\n",
    "IO_2d.plotPseudoSection(\n",
    "    data_type='apparent_chargeability', data=data_sip[:,20]*1e3, scale='linear',\n",
    "    ax=ax3\n",
    ")\n",
    "for i, ax in enumerate([ax1, ax2, ax3]):\n",
    "    ax.set_title(titles[i] + \"(y=0)\", fontsize = 16)\n",
    "plt.tight_layout()\n",
    "fig.savefig(fig_dir+\"data\", dpi=200)"
   ]
  },
  {
   "cell_type": "markdown",
   "metadata": {},
   "source": [
    "### Show integrated IP data"
   ]
  },
  {
   "cell_type": "code",
   "execution_count": null,
   "metadata": {},
   "outputs": [
    {
     "data": {
      "image/png": "[encoded data removed]",
      "text/plain": [
       "<Figure size 720x720 with 2 Axes>"
      ]
     },
     "metadata": {
      "needs_background": "light"
     },
     "output_type": "display_data"
    }
   ],
   "source": [
    "titles = [\"Integrated IP data(1ms-4s)\", \"IP data at 1ms\", \"IP data at 4s\"]\n",
    "fig = plt.figure(figsize = (10, 10))\n",
    "ax1 = plt.subplot(311)\n",
    "out = IO_2d.plotPseudoSection(\n",
    "    data_type='volt_ip', data=data_ip_int*1e3, scale='linear',\n",
    "    ax=ax1, label='ms'\n",
    ")\n",
    "for i, ax in enumerate([ax1]):\n",
    "    ax.set_title(titles[i], fontsize = 16)\n",
    "plt.tight_layout()"
   ]
  },
  {
   "cell_type": "markdown",
   "metadata": {},
   "source": [
    "### Show just IP data"
   ]
  },
  {
   "cell_type": "code",
   "execution_count": null,
   "metadata": {},
   "outputs": [
    {
     "data": {
      "image/png": "[encoded data removed]",
      "text/plain": [
       "<Figure size 720x720 with 4 Axes>"
      ]
     },
     "metadata": {
      "needs_background": "light"
     },
     "output_type": "display_data"
    }
   ],
   "source": [
    "titles = [\"IP data at 1ms\", \"IP data at 4s\"]\n",
    "fig = plt.figure(figsize = (10, 10))\n",
    "ax2 = plt.subplot(311)\n",
    "ax3 = plt.subplot(312)\n",
    "\n",
    "IO_2d.plotPseudoSection(\n",
    "    data_type='volt_ip', data=data_sip[:,0]*1e3, scale='linear',\n",
    "    ax=ax2\n",
    ")\n",
    "IO_2d.plotPseudoSection(\n",
    "    data_type='volt_ip', data=data_sip[:,20]*1e3, scale='linear',\n",
    "    ax=ax3\n",
    ")\n",
    "for i, ax in enumerate([ax2, ax3]):\n",
    "    ax.set_title(titles[i], fontsize = 16)\n",
    "plt.tight_layout()"
   ]
  },
  {
   "cell_type": "markdown",
   "metadata": {},
   "source": [
    "## Run DC inversion to obtain conductivity model"
   ]
  },
  {
   "cell_type": "code",
   "execution_count": null,
   "metadata": {},
   "outputs": [
    {
     "data": {
      "image/png": "[encoded data removed]",
      "text/plain": [
       "<Figure size 432x288 with 1 Axes>"
      ]
     },
     "metadata": {
      "needs_background": "light"
     },
     "output_type": "display_data"
    }
   ],
   "source": [
    "out = plt.hist(np.log10(abs(IO_2d.data_dc)), bins=20)"
   ]
  },
  {
   "cell_type": "code",
   "execution_count": null,
   "metadata": {},
   "outputs": [
    {
     "name": "stdout",
     "output_type": "stream",
     "text": [
      "SimPEG.DataMisfit.l2_DataMisfit assigning default eps of 1e-5 * ||dobs||\n",
      "SimPEG.InvProblem will set Regularization.mref to m0.\n",
      "\n",
      "    SimPEG.InvProblem is setting bfgsH0 to the inverse of the eval2Deriv.\n",
      "    ***Done using same Solver and solverOpts as the problem***\n",
      "model has any nan: 0\n",
      "=============================== Projected GNCG ===============================\n",
      "  #     beta     phi_d     phi_m       f      |proj(x-g)-x|  LS    Comment   \n",
      "-----------------------------------------------------------------------------\n",
      "x0 has any nan: 0\n",
      "   0  1.75e-01  1.28e+04  0.00e+00  1.28e+04    4.62e+03      0              \n",
      "   1  1.75e-01  1.53e+03  2.70e+03  2.00e+03    5.81e+02      0              \n",
      "   2  3.50e-02  5.26e+02  4.40e+03  6.80e+02    1.58e+02      0   Skip BFGS  \n",
      "   3  3.50e-02  2.42e+02  6.78e+03  4.80e+02    1.01e+02      0   Skip BFGS  \n",
      "   4  7.01e-03  1.99e+02  6.92e+03  2.47e+02    9.95e+01      0              \n",
      "   5  7.01e-03  1.35e+02  8.59e+03  1.95e+02    1.37e+02      0   Skip BFGS  \n"
     ]
    }
   ],
   "source": [
    "import numpy as np\n",
    "from SimPEG import (Maps, DataMisfit, Regularization,\n",
    "                    Optimization, Inversion, InvProblem, Directives)\n",
    "\n",
    "\n",
    "def run_inversion(\n",
    "    m0, survey, actind, mesh,\n",
    "    std, eps,\n",
    "    maxIter=30, beta0_ratio=1e0,\n",
    "    coolingFactor=5, coolingRate=2,\n",
    "    upper=np.inf, lower=-np.inf,\n",
    "    use_sensitivity_weight=True,\n",
    "    alpha_s=1e-1,\n",
    "    alpha_x=1.,\n",
    "    alpha_y=1.,\n",
    "    alpha_z=1.,\n",
    "):\n",
    "    \"\"\"\n",
    "    Run DC inversion\n",
    "    \"\"\"\n",
    "    dmisfit = DataMisfit.l2_DataMisfit(survey)\n",
    "    uncert = abs(survey.dobs) * std + eps\n",
    "    dmisfit.W = 1./uncert\n",
    "    # Map for a regularization\n",
    "    regmap = Maps.IdentityMap(nP=int(actind.sum()))\n",
    "    # Related to inversion\n",
    "    if use_sensitivity_weight:\n",
    "        reg = Regularization.Sparse(mesh, indActive=actind, mapping=regmap, cell_weights=mesh.vol)\n",
    "        reg.alpha_s = alpha_s\n",
    "        reg.alpha_x = alpha_x\n",
    "        reg.alpha_y = alpha_y\n",
    "        reg.alpha_z = alpha_z\n",
    "    else:\n",
    "        reg = Regularization.Sparse(mesh, indActive=actind, mapping=regmap, cell_weights=mesh.vol)\n",
    "        reg.alpha_s = alpha_s\n",
    "        reg.alpha_x = alpha_x\n",
    "        reg.alpha_y = alpha_y\n",
    "        reg.alpha_z = alpha_z\n",
    "\n",
    "    opt = Optimization.ProjectedGNCG(maxIter=maxIter, upper=upper, lower=lower)\n",
    "    invProb = InvProblem.BaseInvProblem(dmisfit, reg, opt)\n",
    "    beta = Directives.BetaSchedule(\n",
    "        coolingFactor=coolingFactor, coolingRate=coolingRate\n",
    "    )\n",
    "    betaest = Directives.BetaEstimate_ByEig(beta0_ratio=beta0_ratio)\n",
    "    target = Directives.TargetMisfit()\n",
    "    # Need to have basice saving function\n",
    "    update_Jacobi = Directives.UpdatePreconditioner()\n",
    "    IRLS = Directives.Update_IRLS(\n",
    "        maxIRLSiter=20, minGNiter=1,\n",
    "        betaSearch=False, fix_Jmatrix=True\n",
    "    )    \n",
    "    if use_sensitivity_weight:\n",
    "        updateSensW = Directives.UpdateSensitivityWeights()\n",
    "        directiveList = [\n",
    "            beta, betaest, IRLS, updateSensW\n",
    "        ]\n",
    "    else:\n",
    "        directiveList = [\n",
    "            beta, betaest, target\n",
    "        ]\n",
    "    inv = Inversion.BaseInversion(\n",
    "        invProb, directiveList=directiveList\n",
    "        )\n",
    "    opt.LSshorten = 0.5\n",
    "    opt.remember('xc')\n",
    "\n",
    "    # Run inversion\n",
    "    mopt = inv.run(m0)\n",
    "    return mopt, invProb.dpred\n",
    "\n",
    "survey_2d.dobs = data_dc.copy()\n",
    "m0_dc = np.ones(actind.sum())*np.log(1./1e3)\n",
    "mopt_dc, pred_dc = run_inversion(\n",
    "    m0_dc, survey_2d, actind, mesh_2d, 0.02, 10**-3, use_sensitivity_weight=False\n",
    ")"
   ]
  },
  {
   "cell_type": "markdown",
   "metadata": {},
   "source": [
    "### Recovered resistivity"
   ]
  },
  {
   "cell_type": "code",
   "execution_count": null,
   "metadata": {},
   "outputs": [],
   "source": [
    "mesh_2d_core.plotImage(\n",
    "    1./np.exp(mopt_dc[core_2d_inds]), pcolorOpts={'norm':matplotlib.colors.LogNorm()},\n",
    "    clim=(300, 5000)\n",
    ")\n",
    "plt.gca().set_aspect(1)"
   ]
  },
  {
   "cell_type": "markdown",
   "metadata": {},
   "source": [
    "### Comparison of observed and predicted"
   ]
  },
  {
   "cell_type": "code",
   "execution_count": null,
   "metadata": {},
   "outputs": [],
   "source": [
    "IO_2d.plotPseudoSection()\n",
    "IO_2d.plotPseudoSection(data=pred_dc/IO_2d.G)"
   ]
  },
  {
   "cell_type": "markdown",
   "metadata": {},
   "source": [
    "## Run conventional IP inversion"
   ]
  },
  {
   "cell_type": "code",
   "execution_count": null,
   "metadata": {},
   "outputs": [],
   "source": [
    "from SimPEG import IP\n",
    "actMap_ip = Maps.InjectActiveCells(mesh_2d, actind, valInactive=0.)\n",
    "survey_2d_ip = IP.from_dc_to_ip_survey(survey_2d)\n",
    "problem_ip = IP.Problem2D_N(\n",
    "    mesh_2d, sigma=sigmaMap*mopt_dc, etaMap=actMap_ip,\n",
    "    storeJ=True,\n",
    "    Solver=PardisoSolver\n",
    ")\n",
    "problem_ip.pair(survey_2d_ip)"
   ]
  },
  {
   "cell_type": "code",
   "execution_count": null,
   "metadata": {
    "scrolled": false
   },
   "outputs": [],
   "source": [
    "out = plt.hist(np.log10(abs(IO_2d.data_sip)), bins=20)"
   ]
  },
  {
   "cell_type": "code",
   "execution_count": null,
   "metadata": {},
   "outputs": [],
   "source": [
    "m0_ip = np.ones(actind.sum()) * 1e-4\n",
    "eps = abs(data_dc.copy()) * 1e-3\n",
    "eps += 1e-4\n",
    "survey_2d_ip.dobs = data_ip_int.copy() * pred_dc \n",
    "mopt_ip, pred_ip = IP.run_inversion(\n",
    "    m0_ip, survey_2d_ip, actind, mesh_2d, 0.02, eps,\n",
    "    use_sensitivity_weight=False, maxIter=30, \n",
    "    lower=0.,\n",
    "    alpha_s = 0.1\n",
    ")"
   ]
  },
  {
   "cell_type": "code",
   "execution_count": null,
   "metadata": {},
   "outputs": [],
   "source": [
    "from matplotlib.colors import LogNorm\n",
    "fig, ax = plt.subplots(1,1, figsize=(8*1.1, 7.5*1.1))\n",
    "out = mesh_2d_core.plotImage(\n",
    "    mopt_ip[core_2d_inds]*1e3 + 1., pcolorOpts={'cmap':'magma'}, ax=ax, \n",
    "    clim=(0, 15)\n",
    ")\n",
    "cb = plt.colorbar(out[0], fraction=0.01)\n",
    "cb.set_label(\"mV/V\")\n",
    "ax.set_xlabel(\"x (m)\")\n",
    "ax.set_ylabel(\"z (m)\")\n",
    "plt.gca().set_aspect(1)"
   ]
  },
  {
   "cell_type": "markdown",
   "metadata": {},
   "source": [
    "## Separate inversion of all IP channels\n",
    "\n",
    "One may stop here, but we would like to extract spectral information. \n",
    "So we successively invert multiple time channels of the IP data (1ms-4s), and obtain \n",
    "pseudo-chargeabilities at multiple times. "
   ]
  },
  {
   "cell_type": "code",
   "execution_count": null,
   "metadata": {
    "scrolled": false
   },
   "outputs": [],
   "source": [
    "times = output_simulation['times'].value\n",
    "petas = np.empty((mesh_2d_core.nC, times.size), dtype=float, order='F')\n",
    "pred_ips = np.empty(((survey_2d.nD, times.size)), dtype=float, order='F')\n",
    "m0_ip = np.ones(actind.sum()) * 1e-4\n",
    "for i_time in range(times.size):\n",
    "    dobs_ip = data_sip[:,i_time]\n",
    "    eps = abs(data_dc.copy()) * 1e-3\n",
    "    eps += 1e-4\n",
    "    survey_2d_ip.dobs = dobs_ip.copy() * pred_dc \n",
    "    mopt_ip, pred_ip = IP.run_inversion(\n",
    "        m0_ip, survey_2d_ip, actind, mesh_2d, 0.02, eps,\n",
    "        use_sensitivity_weight=False, maxIter=30, \n",
    "        lower=0.,\n",
    "        alpha_s = 0.1\n",
    "    )\n",
    "    petas[:,i_time] = mopt_ip[core_2d_inds]"
   ]
  },
  {
   "cell_type": "markdown",
   "metadata": {},
   "source": [
    "### Plot recovered pseudo-chargeabilities\n",
    "\n",
    "Pseudo-chargeabilities at 1ms and 4s are different in particular of the near surface chargeable materials (clay). \n",
    "They were imaged in 1ms, but disappeared in 4s. This is due to fast decaying nature (small $\\tau$  and large $c$) of the clay compared to halo and mineralization. "
   ]
  },
  {
   "cell_type": "code",
   "execution_count": null,
   "metadata": {},
   "outputs": [],
   "source": [
    "props = [1./np.exp(mopt_dc[core_2d_inds]), (petas[:,10]+1e-3)*1000, (petas[:,20]+1e-3)*1000]\n",
    "cmaps = ['viridis', 'magma', 'magma']\n",
    "labels = [\n",
    "    \"Resistivity ($\\Omega$m)\",\n",
    "    \"$\\\\tilde{\\eta}$ (mV/V)\",\n",
    "    \"$\\\\tilde{\\eta}$ (mV/V)\"\n",
    "]\n",
    "titles = [\n",
    "            '(a) Conductivity',\n",
    "            '(b) $\\\\tilde{\\eta}(t=1ms)$',\n",
    "            '(c) $\\\\tilde{\\eta}(t=4s)$',\n",
    "]\n",
    "clims  = [(300, 5000.), (0.01*1000, 0.1*1000),(0.001*1000, 0.01*1000)]\n",
    "fig, axs = plt.subplots(3,1, figsize=(8*1.1, 7.5*1.1))\n",
    "for i, value in enumerate(props):\n",
    "    vmin, vmax = value.min(), value.max()\n",
    "    out = mesh_2d_core.plotImage(\n",
    "        value, grid=False, clim=clims[i], pcolorOpts={'cmap':cmaps[i], 'norm':matplotlib.colors.LogNorm()}, \n",
    "        ax=axs[i]\n",
    "    )\n",
    "    axs[i].set_aspect(\"equal\")\n",
    "    cb = plt.colorbar(out[0], fraction=0.01, ax=axs[i])\n",
    "    if i<3:\n",
    "        axs[i].set_xlabel(\"\")\n",
    "    axs[i].set_title(titles[i]+\" at y=0\")\n",
    "    cb.set_label(labels[i], fontsize = 12)\n",
    "    axs[i].set_ylabel(\"z (m)\")\n",
    "axs[-1].set_xlabel(\"x (m)\")\n",
    "    \n",
    "fig.savefig(fig_dir+\"inversion_conventional_linear\", dpi=200)    "
   ]
  },
  {
   "cell_type": "markdown",
   "metadata": {},
   "source": [
    "## Extract SE parameters from the recovered pseudo-chargeabilities\n",
    "\n",
    "To obtain quantitative SIP information from the recovered pseudo-chargeabilities, we set up an inverse problem. \n",
    "This inversion inverts pseudo-chargeabilities at all time channels to extract distributed SE parameters. "
   ]
  },
  {
   "cell_type": "code",
   "execution_count": null,
   "metadata": {},
   "outputs": [],
   "source": [
    "def run_inversion(\n",
    "    m0, survey, actind, mesh, wires,\n",
    "    std, eps,\n",
    "    maxIter=15, beta0_ratio=1e0,\n",
    "    coolingFactor=2, coolingRate=2,\n",
    "    maxIterLS=20, maxIterCG=10, LSshorten=0.5,\n",
    "    eta_lower=1e-5, eta_upper=1,\n",
    "    tau_lower=1e-6, tau_upper=10.,\n",
    "    c_lower=1e-2, c_upper=1.,\n",
    "    is_log_tau=True,\n",
    "    is_log_c=True,\n",
    "    is_log_eta=True,\n",
    "    mref=None,\n",
    "    alpha_s=1e-4,\n",
    "    alpha_x=1e0,\n",
    "    alpha_y=1e0,\n",
    "    alpha_z=1e0,\n",
    "):\n",
    "    \"\"\"\n",
    "    Run Spectral Spectral IP inversion\n",
    "    \"\"\"\n",
    "    dmisfit = DataMisfit.l2_DataMisfit(survey)\n",
    "    uncert = abs(survey.dobs) * std + eps\n",
    "    dmisfit.W = 1./uncert\n",
    "    # Map for a regularization\n",
    "    # Related to inversion\n",
    "\n",
    "    # Set Upper and Lower bounds\n",
    "    e = np.ones(actind.sum())\n",
    "\n",
    "    if np.isscalar(eta_lower):\n",
    "        eta_lower = e * eta_lower\n",
    "    if np.isscalar(tau_lower):\n",
    "        tau_lower = e * tau_lower\n",
    "    if np.isscalar(c_lower):\n",
    "        c_lower = e * c_lower\n",
    "\n",
    "    if np.isscalar(eta_upper):\n",
    "        eta_upper = e * eta_upper\n",
    "    if np.isscalar(tau_upper):\n",
    "        tau_upper = e * tau_upper\n",
    "    if np.isscalar(c_upper):\n",
    "        c_upper = e * c_upper\n",
    "\n",
    "    if is_log_eta:\n",
    "        eta_upper = np.log(eta_upper)\n",
    "        eta_lower = np.log(eta_lower)\n",
    "\n",
    "    if is_log_tau:\n",
    "        tau_upper = np.log(tau_upper)\n",
    "        tau_lower = np.log(tau_lower)\n",
    "\n",
    "    if is_log_c:\n",
    "        c_upper = np.log(c_upper)\n",
    "        c_lower = np.log(c_lower)\n",
    "\n",
    "    m_upper = np.r_[eta_upper, tau_upper, c_upper]\n",
    "    m_lower = np.r_[eta_lower, tau_lower, c_lower]\n",
    "\n",
    "    # Set up regularization\n",
    "    reg_eta = Regularization.Sparse(\n",
    "        mesh, mapping=wires.eta, indActive=actind\n",
    "    )\n",
    "    reg_tau = Regularization.Sparse(\n",
    "        mesh, mapping=wires.tau, indActive=actind\n",
    "    )\n",
    "    reg_c = Regularization.Sparse(\n",
    "        mesh, mapping=wires.c, indActive=actind\n",
    "    )\n",
    "\n",
    "    # Todo:\n",
    "\n",
    "    reg_eta.alpha_s = alpha_s\n",
    "    reg_tau.alpha_s = alpha_s\n",
    "    reg_c.alpha_s = alpha_s\n",
    "\n",
    "    reg_eta.alpha_x = alpha_x\n",
    "    reg_tau.alpha_x = alpha_x\n",
    "    reg_c.alpha_x = alpha_x\n",
    "\n",
    "    reg_eta.alpha_y = alpha_y\n",
    "    reg_tau.alpha_y = alpha_y\n",
    "    reg_c.alpha_y = alpha_y\n",
    "\n",
    "    reg_eta.alpha_z = alpha_z\n",
    "    reg_tau.alpha_z = alpha_z\n",
    "    reg_c.alpha_z = alpha_z\n",
    "\n",
    "    reg = reg_eta + reg_tau + reg_c\n",
    "\n",
    "    # Use Projected Gauss Newton scheme\n",
    "    opt = Optimization.ProjectedGNCG(\n",
    "        maxIter=maxIter, upper=m_upper, lower=m_lower,\n",
    "        maxIterLS=maxIterLS, maxIterCG=maxIterCG, LSshorten=LSshorten\n",
    "        )\n",
    "    invProb = InvProblem.BaseInvProblem(dmisfit, reg, opt)\n",
    "    beta = Directives.BetaSchedule(\n",
    "        coolingFactor=coolingFactor, coolingRate=coolingRate\n",
    "    )\n",
    "    betaest = Directives.BetaEstimate_ByEig(beta0_ratio=beta0_ratio)\n",
    "    target = Directives.TargetMisfit()\n",
    "    invProb.beta=0.\n",
    "    directiveList = [\n",
    "            target\n",
    "    ]\n",
    "\n",
    "    inv = Inversion.BaseInversion(\n",
    "        invProb, directiveList=directiveList\n",
    "        )\n",
    "    opt.LSshorten = 0.5\n",
    "    opt.remember('xc')\n",
    "\n",
    "    # Run inversion\n",
    "    mopt = inv.run(m0)\n",
    "    return mopt, invProb.dpred\n"
   ]
  },
  {
   "cell_type": "markdown",
   "metadata": {},
   "source": [
    "### Trial #1: $m=(\\eta_{se}, log(\\tau_{se}), c_{se})$\n",
    "\n",
    "This case did not converge. "
   ]
  },
  {
   "cell_type": "code",
   "execution_count": null,
   "metadata": {},
   "outputs": [],
   "source": [
    "from SimPEG import SIP\n",
    "from simpegEMIP.StretchedExponential import SEMultiInvProblem, SEMultiSurvey\n",
    "eta0 = np.ones(mesh_2d_core.nC)*0.01\n",
    "tau0 = np.ones(mesh_2d_core.nC)*0.1\n",
    "c0 = np.ones(mesh_2d_core.nC)*1.\n",
    "actind_core = np.ones(mesh_2d_core.nC, dtype=bool)\n",
    "eta_map, tau_map, c_map, wires =  SIP.spectral_ip_mappings(\n",
    "    mesh_2d_core, indActive=actind_core, \n",
    "    is_log_eta=False,\n",
    "    is_log_tau=True,\n",
    "    is_log_c=False\n",
    ")\n",
    "# m0 = np.r_[np.log(eta0), np.log(tau0), np.log(c0)]\n",
    "m0 = np.r_[(eta0), np.log(tau0), (c0)]\n",
    "def run_sip(m0):\n",
    "    survey_curvefit = SEMultiSurvey(times, mesh_2d_core.gridCC[actind_core,:], n_pulse=2, T=16.)\n",
    "    survey_curvefit.dobs = petas.flatten()\n",
    "    prob_curvefit = SEMultiInvProblem(\n",
    "        mesh_2d_core, etaMap = eta_map, tauMap = tau_map, cMap=c_map,\n",
    "        Solver=PardisoSolver\n",
    "    )\n",
    "    prob_curvefit.pair(survey_curvefit)\n",
    "    # m0 = np.r_[(eta0), np.log(tau0), (c0)]\n",
    "    eps = np.percentile(petas, 95, axis=0) * 0.05\n",
    "    eps = eps.repeat(actind_core.sum())    \n",
    "    mopt, pred = run_inversion(\n",
    "        m0, survey_curvefit, actind_core, mesh_2d_core, wires, 0.05, eps, \n",
    "        is_log_eta=False, \n",
    "        is_log_tau=True, \n",
    "        is_log_c=False,     \n",
    "        maxIter=20, \n",
    "        tau_upper=1e2,\n",
    "        alpha_s=0.1,\n",
    "        coolingFactor=2.\n",
    "    )\n",
    "    return mopt, pred, survey_curvefit.dobs, prob_curvefit\n",
    "mopt_unbalanced, pred_unbalanced, dobs_unbalanced, prob_curvefit_unbalanced = run_sip(m0)"
   ]
  },
  {
   "cell_type": "code",
   "execution_count": null,
   "metadata": {},
   "outputs": [],
   "source": [
    "inds = petas[:,0]>0.1\n",
    "temp_petas = petas[inds,:]\n",
    "temp_pred = pred_unbalanced.reshape((mesh_2d_core.nC, times.size))[inds,:]\n",
    "out = plt.loglog(times, temp_petas.T, 'k-')\n",
    "out = plt.loglog(times, temp_pred.T, 'rx')\n",
    "plt.legend((\"Obs\", \"Pred\"))"
   ]
  },
  {
   "cell_type": "markdown",
   "metadata": {},
   "source": [
    "### Trial #2: $m=(log(\\eta_{se}), log(\\tau_{se}), log(c_{se}))$\n",
    "\n",
    "This case converged after 6 iterations."
   ]
  },
  {
   "cell_type": "code",
   "execution_count": null,
   "metadata": {},
   "outputs": [],
   "source": [
    "from SimPEG import SIP\n",
    "from simpegEMIP.StretchedExponential import SEMultiInvProblem, SEMultiSurvey\n",
    "eta0 = np.ones(mesh_2d_core.nC)*0.01\n",
    "tau0 = np.ones(mesh_2d_core.nC)*0.1\n",
    "c0 = np.ones(mesh_2d_core.nC)*1.\n",
    "actind_core = np.ones(mesh_2d_core.nC, dtype=bool)\n",
    "eta_map, tau_map, c_map, wires =  SIP.spectral_ip_mappings(\n",
    "    mesh_2d_core, indActive=actind_core, \n",
    "    is_log_eta=True,\n",
    "    is_log_tau=True,\n",
    "    is_log_c=True\n",
    ")\n",
    "m0 = np.r_[np.log(eta0), np.log(tau0), np.log(c0)]\n",
    "# m0 = np.r_[(eta0), np.log(tau0), (c0)]\n",
    "def run_sip(m0):\n",
    "    survey_curvefit = SEMultiSurvey(times, mesh_2d_core.gridCC[actind_core,:], n_pulse=2, T=16.)\n",
    "    survey_curvefit.dobs = petas.flatten()\n",
    "    prob_curvefit = SEMultiInvProblem(\n",
    "        mesh_2d_core, etaMap = eta_map, tauMap = tau_map, cMap=c_map,\n",
    "        Solver=PardisoSolver\n",
    "    )\n",
    "    prob_curvefit.pair(survey_curvefit)\n",
    "    # m0 = np.r_[(eta0), np.log(tau0), (c0)]\n",
    "    eps = np.percentile(petas, 95, axis=0) * 0.05\n",
    "    eps = eps.repeat(actind_core.sum())    \n",
    "    mopt, pred = run_inversion(\n",
    "        m0, survey_curvefit, actind_core, mesh_2d_core, wires, 0.05, eps, \n",
    "        is_log_eta=True, \n",
    "        is_log_tau=True, \n",
    "        is_log_c=True,     \n",
    "        maxIter=20, \n",
    "        tau_upper=1e2,\n",
    "        alpha_s=0.1,\n",
    "        coolingFactor=2.\n",
    "    )\n",
    "    return mopt, pred, survey_curvefit.dobs, prob_curvefit\n",
    "mopt, pred, dobs, prob_curvefit = run_sip(m0)\n",
    "eta_est_curvefit = np.exp(wires.eta * mopt)\n",
    "tau_est_curvefit = np.exp(wires.tau * mopt)\n",
    "c_est_curvefit = np.exp(wires.c * mopt)"
   ]
  },
  {
   "cell_type": "code",
   "execution_count": null,
   "metadata": {},
   "outputs": [],
   "source": [
    "inds_eta = eta_est_curvefit > 0.08"
   ]
  },
  {
   "cell_type": "code",
   "execution_count": null,
   "metadata": {},
   "outputs": [],
   "source": [
    "np.sqrt(9.24e+04*2 / dobs.size)"
   ]
  },
  {
   "cell_type": "code",
   "execution_count": null,
   "metadata": {},
   "outputs": [],
   "source": [
    "inds = petas[:,0]>0.1\n",
    "temp_petas = petas[inds,:]\n",
    "temp_pred = pred.reshape((mesh_2d_core.nC, times.size))[inds,:]\n",
    "out = plt.loglog(times, temp_petas.T, 'k-')\n",
    "out = plt.loglog(times, temp_pred.T, 'rx')\n",
    "plt.legend((\"Obs\", \"Pred\"))"
   ]
  },
  {
   "cell_type": "markdown",
   "metadata": {},
   "source": [
    "### Why Trial#1 showed poor convergence?\n",
    "By analyzing the gradient of the data misifit function, $\\phi_d$, we show why the \n",
    "logarithmic model showed better convergence. "
   ]
  },
  {
   "cell_type": "code",
   "execution_count": null,
   "metadata": {},
   "outputs": [],
   "source": [
    "import matplotlib\n",
    "matplotlib.rcParams['font.size'] =16\n",
    "fig, ax = plt.subplots(1,2, figsize=(12, 5))\n",
    "uncert = abs(dobs_unbalanced) * 0.05 + 0.0025\n",
    "r = (pred_unbalanced - dobs) / uncert\n",
    "jtvec = prob_curvefit_unbalanced.Jtvec(mopt_unbalanced, r)\n",
    "value_med = []\n",
    "for i in range(3):\n",
    "    value = np.log10(abs(jtvec.reshape((mesh_2d_core.nC, 3), order=\"F\")[:,i]))\n",
    "    value_med.append(np.median(value))\n",
    "    out = ax[0].hist(value, bins=100, alpha=0.5, color=\"C\"+str(i))\n",
    "ax[0].legend((\"$\\eta_{se}$\", \"$log(\\\\tau_{se}$)\", \"$c_{se}$\"))    \n",
    "# for i in range(3):\n",
    "#     print (10**value_med[i])\n",
    "#     ax[0].plot(np.ones(2)*value_med[i], np.r_[0, 25], color=\"C\"+str(i), linestyle='--')\n",
    "ax[0].set_xlabel(\"Log10 ($| \\\\nabla_m \\phi_d |$)\")\n",
    "ax[0].set_ylabel(\"Count\")\n",
    "ax[0].grid(True)\n",
    "r = (pred - dobs)/ uncert\n",
    "jtvec = prob_curvefit.Jtvec(mopt, r)\n",
    "value_med = []\n",
    "for i in range(3):\n",
    "    value = np.log10(abs(jtvec.reshape((mesh_2d_core.nC, 3), order=\"F\")[:,i]))\n",
    "    value_med.append(np.median(value))\n",
    "    out = ax[1].hist(value, bins=100, alpha=0.5, color=\"C\"+str(i))\n",
    "ax[1].legend((\"$log(\\eta_{se})$\", \"$log(\\\\tau_{se}$)\", \"$log(c_{se})$\"))    \n",
    "# for i in range(3):\n",
    "#     print (10**value_med[i])\n",
    "#     ax[1].plot(np.ones(2)*value_med[i], np.r_[0, 25], color=\"C\"+str(i), linestyle='--')\n",
    "ax[1].set_xlabel(\"Log10 ($| \\\\nabla_m \\phi_d \\ |$)\")\n",
    "ax[1].grid(True)\n",
    "\n",
    "ax[0].set_title(\"(a)\", fontsize=18)\n",
    "ax[1].set_title(\"(b)\", fontsize=18)\n",
    "ax[0].set_xlim(-6, 3)\n",
    "ax[1].set_xlim(-6, 3)\n",
    "ax[0].set_ylim(0, 100)\n",
    "ax[1].set_ylim(0, 100)\n",
    "\n",
    "plt.tight_layout()\n",
    "fig.savefig(fig_dir+\"gradient_histogram\", dpi=200)"
   ]
  },
  {
   "cell_type": "code",
   "execution_count": null,
   "metadata": {},
   "outputs": [],
   "source": [
    "from matplotlib.colors import Normalize\n",
    "import numpy as np\n",
    "import matplotlib.pylab as pl\n",
    "from matplotlib.colors import ListedColormap\n",
    "\n",
    "cmap = pl.cm.binary_r\n",
    "\n",
    "# Get the colormap colors\n",
    "my_cmap = cmap(np.arange(cmap.N))\n",
    "\n",
    "# Set alpha\n",
    "my_cmap[:,-1] = np.linspace(0, 1., cmap.N)\n",
    "\n",
    "# Create new colormap\n",
    "my_cmap = ListedColormap(my_cmap)"
   ]
  },
  {
   "cell_type": "code",
   "execution_count": null,
   "metadata": {},
   "outputs": [],
   "source": [
    "dx = np.unique(mesh_2d_core.hx)\n",
    "dz = np.unique(mesh_2d_core.hy)\n",
    "X = mesh_2d_core.r(mesh_2d_core.gridCC[:,0], format='M')\n",
    "Z = mesh_2d_core.r(mesh_2d_core.gridCC[:,1], format='M')\n",
    "Value = mesh_2d_core.r(eta_est_curvefit, format='M')\n",
    "# out = plt.contourf(X,Z, Value, cmap=my_cmap, levels=[1e-3, 0.08], ec='None')\n",
    "# plt.colorbar(out)"
   ]
  },
  {
   "cell_type": "markdown",
   "metadata": {},
   "source": [
    "### Show inversion results with $m=(log(\\eta_{se}), log(\\tau_{se}), log(c_{se}))$\n",
    "\n",
    "Not bad, but distinguishing the mineralized zone from halo is hard.  "
   ]
  },
  {
   "cell_type": "code",
   "execution_count": null,
   "metadata": {},
   "outputs": [],
   "source": [
    "import matplotlib\n",
    "matplotlib.rcParams['font.size'] = 14\n",
    "props = [eta_est_curvefit*1000, tau_est_curvefit, c_est_curvefit]\n",
    "cmaps = ['magma', 'plasma', 'inferno_r']\n",
    "labels = [\n",
    "    \"Chargeability (mV/V)\",\n",
    "    \"Time constant (s)\",\n",
    "    \"Frequency component\"    \n",
    "]\n",
    "titles = [\n",
    "            '(a) $\\eta_{se}$',\n",
    "            '(b) $\\\\tau_{se}$',\n",
    "            '(c) $c_{se}$',    \n",
    "]\n",
    "clims  = [(0.01*1000, 0.1*1000), (0.1, 2.), (0.1, 1.)]\n",
    "fig, axs = plt.subplots(3,1, figsize=(8*1.1, 10*3/4*1.1))\n",
    "for i, value in enumerate(props):\n",
    "    vmin, vmax = value.min(), value.max()\n",
    "    out = mesh_2d_core.plotImage(\n",
    "        value, grid=False, clim=clims[i], pcolorOpts={'cmap':cmaps[i], 'norm':matplotlib.colors.LogNorm()}, \n",
    "        ax=axs[i]\n",
    "    )\n",
    "#     axs[i].contourf(X,Z, Value, cmap=my_cmap, levels=[1e-3, 0.08])\n",
    "#     axs[i].contour(X,Z, Value, colors='k', levels=[1e-3, 0.08], linewidths=1)    \n",
    "    axs[i].set_aspect(\"equal\")\n",
    "    cb = plt.colorbar(out[0], fraction=0.01, ax=axs[i])\n",
    "#     cb.set_ticks([vmin, vmax])\n",
    "    cb.set_ticklabels(clims[i])\n",
    "    if i<3:\n",
    "        axs[i].set_xlabel(\"\")\n",
    "    axs[i].set_title(titles[i]+\" at y=0\")\n",
    "    cb.set_label(labels[i], fontsize = 12)\n",
    "    axs[i].set_title(titles[i]+\" at y=0\")\n",
    "    axs[i].set_ylabel(\"z (m)\")\n",
    "axs[-1].set_xlabel(\"x (m)\")\n",
    "plt.tight_layout()    \n",
    "fig.savefig(fig_dir+\"inversion_conventional\", dpi=200)    "
   ]
  },
  {
   "cell_type": "markdown",
   "metadata": {},
   "source": [
    "## Run our SIP inversion\n",
    "\n",
    "Now we simultaneously invert all IP time channels together to reconver distributed SE parameters. "
   ]
  },
  {
   "cell_type": "code",
   "execution_count": null,
   "metadata": {},
   "outputs": [],
   "source": [
    "def run_inversion(\n",
    "    m0, survey, actind, mesh, wires,\n",
    "    std, eps,\n",
    "    maxIter=15, beta0_ratio=1e0,\n",
    "    coolingFactor=2, coolingRate=2,\n",
    "    maxIterLS=20, maxIterCG=10, LSshorten=0.5,\n",
    "    eta_lower=1e-5, eta_upper=1,\n",
    "    tau_lower=1e-6, tau_upper=10.,\n",
    "    c_lower=1e-2, c_upper=1.,\n",
    "    is_log_tau=True,\n",
    "    is_log_c=True,\n",
    "    is_log_eta=True,\n",
    "    mref=None,\n",
    "    alpha_s=1e-4,\n",
    "    alpha_x=1e0,\n",
    "    alpha_y=1e0,\n",
    "    alpha_z=1e0,\n",
    "):\n",
    "    \"\"\"\n",
    "    Run Spectral Spectral IP inversion\n",
    "    \"\"\"\n",
    "    dmisfit = DataMisfit.l2_DataMisfit(survey)\n",
    "    uncert = abs(survey.dobs) * std + eps\n",
    "    dmisfit.W = 1./uncert\n",
    "    # Map for a regularization\n",
    "    # Related to inversion\n",
    "\n",
    "    # Set Upper and Lower bounds\n",
    "    e = np.ones(actind.sum())\n",
    "\n",
    "    if np.isscalar(eta_lower):\n",
    "        eta_lower = e * eta_lower\n",
    "    if np.isscalar(tau_lower):\n",
    "        tau_lower = e * tau_lower\n",
    "    if np.isscalar(c_lower):\n",
    "        c_lower = e * c_lower\n",
    "\n",
    "    if np.isscalar(eta_upper):\n",
    "        eta_upper = e * eta_upper\n",
    "    if np.isscalar(tau_upper):\n",
    "        tau_upper = e * tau_upper\n",
    "    if np.isscalar(c_upper):\n",
    "        c_upper = e * c_upper\n",
    "\n",
    "    if is_log_eta:\n",
    "        eta_upper = np.log(eta_upper)\n",
    "        eta_lower = np.log(eta_lower)\n",
    "\n",
    "    if is_log_tau:\n",
    "        tau_upper = np.log(tau_upper)\n",
    "        tau_lower = np.log(tau_lower)\n",
    "\n",
    "    if is_log_c:\n",
    "        c_upper = np.log(c_upper)\n",
    "        c_lower = np.log(c_lower)\n",
    "\n",
    "    m_upper = np.r_[eta_upper, tau_upper, c_upper]\n",
    "    m_lower = np.r_[eta_lower, tau_lower, c_lower]\n",
    "\n",
    "    # Set up regularization\n",
    "    reg_eta = Regularization.Sparse(\n",
    "        mesh, mapping=wires.eta, indActive=actind, cell_weights=mesh.vol\n",
    "    )\n",
    "    reg_tau = Regularization.Sparse(\n",
    "        mesh, mapping=wires.tau, indActive=actind, cell_weights=mesh.vol\n",
    "    )\n",
    "    reg_c = Regularization.Sparse(\n",
    "        mesh, mapping=wires.c, indActive=actind, cell_weights=mesh.vol\n",
    "    )\n",
    "    reg_eta.norms = np.c_[0, 2, 2, 2]\n",
    "    reg_tau.norms = np.c_[0, 2, 2, 2]\n",
    "    reg_c.norms = np.c_[0, 2, 2, 2]    \n",
    "    # Todo:\n",
    "\n",
    "    reg_eta.alpha_s = alpha_s\n",
    "    reg_tau.alpha_s = alpha_s\n",
    "    reg_c.alpha_s = alpha_s\n",
    "\n",
    "    reg_eta.alpha_x = alpha_x\n",
    "    reg_tau.alpha_x = alpha_x\n",
    "    reg_c.alpha_x = alpha_x\n",
    "\n",
    "    reg_eta.alpha_y = alpha_y\n",
    "    reg_tau.alpha_y = alpha_y\n",
    "    reg_c.alpha_y = alpha_y\n",
    "\n",
    "    reg_eta.alpha_z = alpha_z\n",
    "    reg_tau.alpha_z = alpha_z\n",
    "    reg_c.alpha_z = alpha_z\n",
    "    \n",
    "    reg = reg_eta + reg_tau + reg_c\n",
    "\n",
    "    # Use Projected Gauss Newton scheme\n",
    "    opt = Optimization.ProjectedGNCG(\n",
    "        maxIter=maxIter, upper=m_upper, lower=m_lower,\n",
    "        maxIterLS=maxIterLS, maxIterCG=maxIterCG, LSshorten=LSshorten\n",
    "        )\n",
    "    invProb = InvProblem.BaseInvProblem(dmisfit, reg, opt)\n",
    "    beta = Directives.BetaSchedule(\n",
    "        coolingFactor=coolingFactor, coolingRate=coolingRate\n",
    "    )\n",
    "    betaest = Directives.BetaEstimate_ByEig(beta0_ratio=beta0_ratio)\n",
    "    target = Directives.TargetMisfit()\n",
    "    IRLS = Directives.Update_IRLS(betaSearch=False)\n",
    "    IRLS.chifact_start = 1.\n",
    "    directiveList = [\n",
    "            beta, betaest, target\n",
    "    ]\n",
    "\n",
    "    inv = Inversion.BaseInversion(\n",
    "        invProb, directiveList=directiveList\n",
    "        )\n",
    "    opt.LSshorten = 0.5\n",
    "    opt.remember('xc')\n",
    "    # Run inversion\n",
    "    mopt = inv.run(m0)\n",
    "    return mopt, invProb.dpred"
   ]
  },
  {
   "cell_type": "code",
   "execution_count": null,
   "metadata": {
    "scrolled": false
   },
   "outputs": [],
   "source": [
    "eta_map, tau_map, c_map, wires =  SIP.spectral_ip_mappings(\n",
    "    mesh_2d, indActive=actind, \n",
    "    is_log_eta = True,\n",
    "    is_log_tau = True,\n",
    "    is_log_c = True,    \n",
    ")\n",
    "\n",
    "problem = SIP.Problem2D_N(\n",
    "    mesh_2d, sigma=sigmaMap*mopt_dc, etaMap=eta_map, tauMap=tau_map, cMap=c_map,\n",
    "    storeJ=True,\n",
    "    Solver=PardisoSolver\n",
    ")\n",
    "survey_2d_sip = SIP.from_dc_to_sip_survey(survey_2d, times)\n",
    "survey_2d_sip.dobs = Utils.mkvc(data_sip)\n",
    "survey_2d_sip.unpair()\n",
    "survey_2d_sip.n_pulse = 2\n",
    "survey_2d_sip.T = 16.\n",
    "problem.pair(survey_2d_sip)\n",
    "problem.set_dc_data(data_dc, dc_survey=survey_2d)\n",
    "\n",
    "eta0 = np.zeros(actind.sum()) + 1e-2\n",
    "tau0 = np.ones(actind.sum()) * 0.1\n",
    "c0 = np.ones(actind.sum()) * 1.\n",
    "\n",
    "m0 = np.r_[np.log(eta0[actind]), np.log(tau0[actind]), np.log(c0[actind])]\n",
    "# eps = Utils.mkvc(abs(np.repeat(survey_2d.dobs.reshape([-1,1]), times.size, axis=1)) * 1e-3)\n",
    "eps = 10**-3.\n",
    "std = 0.05\n",
    "\n",
    "mopt, pred = run_inversion(\n",
    "    m0, survey_2d_sip, actind, mesh_2d, wires, std, eps, \n",
    "    is_log_eta=True, \n",
    "    is_log_tau=True, \n",
    "    is_log_c=True,     \n",
    "    maxIter=30, \n",
    "    tau_upper=100.,\n",
    "    alpha_s=0.1\n",
    ")\n",
    "eta_est = np.exp(wires.eta * mopt)\n",
    "tau_est = np.exp(wires.tau * mopt)\n",
    "c_est = np.exp(wires.c * mopt)\n"
   ]
  },
  {
   "cell_type": "code",
   "execution_count": null,
   "metadata": {},
   "outputs": [],
   "source": [
    "inds_eta_2d = eta_est[core_2d_inds] > 0.08"
   ]
  },
  {
   "cell_type": "code",
   "execution_count": null,
   "metadata": {},
   "outputs": [],
   "source": [
    "X = mesh_2d_core.r(mesh_2d_core.gridCC[:,0], format='M')\n",
    "Z = mesh_2d_core.r(mesh_2d_core.gridCC[:,1], format='M')\n",
    "Value = mesh_2d_core.r(eta_est[core_2d_inds], format='M')\n",
    "# out = plt.contourf(X,Z, Value, cmap=my_cmap, levels=[1e-3, 0.08], ec='None')\n",
    "# plt.colorbar(out)"
   ]
  },
  {
   "cell_type": "markdown",
   "metadata": {},
   "source": [
    "### Show recovered $\\eta_{se}$, $\\tau_{se}$, $c_{se}$\n",
    "Now we are distinguishing the mineralized zone having large $\\tau_{se}$!"
   ]
  },
  {
   "cell_type": "code",
   "execution_count": null,
   "metadata": {},
   "outputs": [],
   "source": [
    "props = [eta_est[core_2d_inds]*1000, tau_est[core_2d_inds], c_est[core_2d_inds]]\n",
    "cmaps = ['magma', 'plasma', 'inferno_r']\n",
    "labels = [\n",
    "    \"Chargeability (mV/V)\",\n",
    "    \"Time constant (s)\",\n",
    "    \"Frequency component\"    \n",
    "]\n",
    "titles = [\n",
    "            '(a) $\\eta_{se}$',\n",
    "            '(b) $\\\\tau_{se}$',\n",
    "            '(c) $c_{se}$',    \n",
    "]\n",
    "clims  = [(0.01*1000, 0.1*1000), (0.1, 2.), (0.1, 1.)]\n",
    "# fig, axs = plt.subplots(3,1, figsize=(8*1.1, 10*3/4*1.1))\n",
    "fig, axs = plt.subplots(3,1, figsize=(8*1.1, 7.5*1.1))\n",
    "for i, value in enumerate(props):\n",
    "    vmin, vmax = value.min(), value.max()\n",
    "    out = mesh_2d_core.plotImage(\n",
    "        value, grid=False, clim=clims[i], pcolorOpts={'cmap':cmaps[i], 'norm':matplotlib.colors.LogNorm()}, \n",
    "        ax=axs[i]\n",
    "    )\n",
    "#     axs[i].contourf(X,Z, Value, cmap=my_cmap, levels=[1e-3, 0.08])\n",
    "#     axs[i].contour(X,Z, Value, colors='k', levels=[1e-3, 0.08], linewidths=1)\n",
    "\n",
    "    axs[i].set_aspect(\"equal\")\n",
    "    cb = plt.colorbar(out[0], fraction=0.01, ax=axs[i])\n",
    "#     cb.set_ticks([vmin, vmax])\n",
    "    cb.set_ticklabels(clims[i])\n",
    "    if i<3:\n",
    "        axs[i].set_xlabel(\"\")\n",
    "    axs[i].set_title(titles[i]+\" at y=0\")\n",
    "    cb.set_label(labels[i], fontsize = 12)\n",
    "    axs[i].set_ylabel(\"z (m)\")\n",
    "axs[-1].set_xlabel(\"x (m)\")    \n",
    "# plt.tight_layout()\n",
    "# fig.savefig(fig_dir+\"inversion_sip_2d\", dpi=200)        "
   ]
  },
  {
   "cell_type": "code",
   "execution_count": null,
   "metadata": {},
   "outputs": [],
   "source": [
    "props = [eta_est[core_2d_inds]*1000, tau_est[core_2d_inds], c_est[core_2d_inds]]\n",
    "cmaps = ['magma', 'plasma', 'inferno_r']\n",
    "labels = [\n",
    "    \"Chargeability (mV/V)\",\n",
    "    \"Time constant (s)\",\n",
    "    \"Frequency component\"    \n",
    "]\n",
    "titles = [\n",
    "            '(a) $\\eta_{se}$',\n",
    "            '(b) $\\\\tau_{se}$',\n",
    "            '(c) $c_{se}$',    \n",
    "]\n",
    "clims  = [(0.01*1000, 0.1*1000), (0.1, 2.), (0.1, 1.)]\n",
    "# fig, axs = plt.subplots(3,1, figsize=(8*1.1, 10*3/4*1.1))\n",
    "fig, axs = plt.subplots(3,1, figsize=(8*1.1, 7.5*1.1))\n",
    "for i, value in enumerate(props):\n",
    "    vmin, vmax = value.min(), value.max()\n",
    "    out = mesh_2d_core.plotImage(\n",
    "        value, grid=False, clim=clims[i], pcolorOpts={'cmap':cmaps[i], 'norm':matplotlib.colors.LogNorm()}, \n",
    "        ax=axs[i]\n",
    "    )\n",
    "#     axs[i].contourf(X,Z, Value, cmap=my_cmap, levels=[1e-3, 0.08])\n",
    "#     axs[i].contour(X,Z, Value, colors='k', levels=[1e-3, 0.08], linewidths=1)\n",
    "\n",
    "    axs[i].set_aspect(\"equal\")\n",
    "    cb = plt.colorbar(out[0], fraction=0.01, ax=axs[i])\n",
    "#     cb.set_ticks([vmin, vmax])\n",
    "    cb.set_ticklabels(clims[i])\n",
    "    if i<3:\n",
    "        axs[i].set_xlabel(\"\")\n",
    "#     axs[i].set_title(titles[i]+\" at y=0\")\n",
    "    cb.set_label(labels[i], fontsize = 12)\n",
    "    axs[i].set_ylabel(\"z (m)\")\n",
    "axs[-1].set_xlabel(\"x (m)\")    \n",
    "# plt.tight_layout()\n",
    "# fig.savefig(fig_dir+\"inversion_sip_2d\", dpi=200)        "
   ]
  },
  {
   "cell_type": "markdown",
   "metadata": {},
   "source": [
    "### Compare cross plot of  $\\tau_{se}$ and $c_{se}$ "
   ]
  },
  {
   "cell_type": "code",
   "execution_count": null,
   "metadata": {},
   "outputs": [],
   "source": [
    "import matplotlib.gridspec as gs\n",
    "fig = plt.figure(figsize=(10,5))\n",
    "# gs = gs.GridSpec(1, 10)\n",
    "ax1 = plt.subplot(121)\n",
    "ax2 = plt.subplot(122)\n",
    "inds = eta_est_curvefit > 0.06\n",
    "out = ax1.scatter(\n",
    "    tau_est_curvefit[inds], c_est_curvefit[inds], c=eta_est_curvefit[inds]*1e3, cmap=\"magma\",\n",
    "    norm=colors.LogNorm(), vmin=0.05*1e3, vmax=0.1*1e3, edgecolor='black',\n",
    ")\n",
    "\n",
    "ax1.set_xscale(\"linear\")\n",
    "ax1.set_yscale(\"linear\")\n",
    "ax1.grid(which='both', alpha=0.2)\n",
    "ax1.set_xlabel(\"Time constant (s)\")\n",
    "ax1.set_ylabel(\"Frequency dependency\")\n",
    "inds = eta_est > 0.06\n",
    "out = ax2.scatter(\n",
    "    tau_est[inds], c_est[inds], c=eta_est[inds]*1e3,\n",
    "    norm=colors.LogNorm(), vmin=0.05*1e3, vmax=0.1*1e3, s=30, cmap=\"magma\",\n",
    "    edgecolor='black',\n",
    ")\n",
    "cbaxes = fig.add_axes([1, 0.3, 0.01, 0.5]) \n",
    "cb = plt.colorbar(out, ax=ax2, cax = cbaxes) \n",
    "cb.set_label(\"Chargeability (mV/V)\")\n",
    "\n",
    "ax2.set_xlabel(\"Time constant (s)\")\n",
    "# ax2.set_ylabel(\"Frequency dependency\")\n",
    "ax1.set_title(\"(a) Sequential SIP inversion\", fontsize=15)     \n",
    "ax2.set_title(\"(b) Simultaneous SIP inversion\", fontsize=15)     \n",
    "for ax in [ax1, ax2]:\n",
    "    ax.set_xlim(0.1, 3)\n",
    "    ax.set_ylim(0.1, 1.)\n",
    "    ax.set_xscale(\"linear\")\n",
    "    ax.set_yscale(\"linear\")\n",
    "    ax.grid(which=\"both\", alpha=0.2)\n",
    "plt.tight_layout()\n",
    "# fig.savefig(fig_dir+\"inversion_sip_2d_scatter\", dpi=200)"
   ]
  }
 ],
 "metadata": {
  "anaconda-cloud": {},
  "kernelspec": {
   "display_name": "Python 3",
   "language": "python",
   "name": "python3"
  },
  "language_info": {
   "codemirror_mode": {
    "name": "ipython",
    "version": 3
   },
   "file_extension": ".py",
   "mimetype": "text/x-python",
   "name": "python",
   "nbconvert_exporter": "python",
   "pygments_lexer": "ipython3",
   "version": "3.7.3"
  }
 },
 "nbformat": 4,
 "nbformat_minor": 1
}
