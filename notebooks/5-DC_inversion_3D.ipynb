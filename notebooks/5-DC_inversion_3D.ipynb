{
 "cells": [
  {
   "cell_type": "markdown",
   "metadata": {},
   "source": [
    "# 3D DC inversion\n",
    "\n",
    "**Author**: Seogi Kang\n",
    "\n",
    "This notebook runs 3D DC inversion. "
   ]
  },
  {
   "cell_type": "code",
   "execution_count": 3,
   "metadata": {},
   "outputs": [
    {
     "name": "stdout",
     "output_type": "stream",
     "text": [
      "Populating the interactive namespace from numpy and matplotlib\n"
     ]
    },
    {
     "name": "stderr",
     "output_type": "stream",
     "text": [
      "/Users/sgkang/anaconda3/lib/python3.7/site-packages/IPython/core/magics/pylab.py:160: UserWarning: pylab import has clobbered these variables: ['Text', 'Button', 'Widget', 'interactive']\n",
      "`%matplotlib` prevents importing * from pylab and numpy\n",
      "  \"\\n`%matplotlib` prevents importing * from pylab and numpy\"\n"
     ]
    }
   ],
   "source": [
    "from SimPEG import DC\n",
    "import numpy as np\n",
    "from SimPEG import Mesh, Maps, Utils\n",
    "from pymatsolver import PardisoSolver\n",
    "from ipywidgets import *\n",
    "%pylab inline\n",
    "from matplotlib import colors\n",
    "import h5py\n",
    "from pylab import cm\n",
    "from matplotlib import gridspec"
   ]
  },
  {
   "cell_type": "markdown",
   "metadata": {},
   "source": [
    "## Load data"
   ]
  },
  {
   "cell_type": "code",
   "execution_count": 4,
   "metadata": {},
   "outputs": [],
   "source": [
    "work_dir = \"../data/\"\n",
    "fname = 'output_simulation_sip.h5'\n",
    "output_simulation = h5py.File(work_dir+fname, 'r')\n",
    "geology_names = np.array([\"background\", \"overburden\",\"porphyry\", \"stock\", \"halo\", \"clay\", \"mineralization\"], dtype=str),    "
   ]
  },
  {
   "cell_type": "code",
   "execution_count": 5,
   "metadata": {},
   "outputs": [
    {
     "name": "stderr",
     "output_type": "stream",
     "text": [
      "/Users/sgkang/anaconda3/lib/python3.7/site-packages/h5py/_hl/dataset.py:313: H5pyDeprecationWarning: dataset.value has been deprecated. Use dataset[()] instead.\n",
      "  \"Use dataset[()] instead.\", H5pyDeprecationWarning)\n"
     ]
    }
   ],
   "source": [
    "mesh = Mesh.TensorMesh.readUBC(work_dir+output_simulation['mesh_name'].value)\n",
    "sigma = output_simulation['sigma'].value\n",
    "eta = output_simulation['eta'].value\n",
    "tau = output_simulation['tau'].value\n",
    "c = output_simulation['c'].value"
   ]
  },
  {
   "cell_type": "markdown",
   "metadata": {},
   "source": [
    "## Create `DC` survey and problem"
   ]
  },
  {
   "cell_type": "code",
   "execution_count": 6,
   "metadata": {},
   "outputs": [
    {
     "name": "stderr",
     "output_type": "stream",
     "text": [
      "/Users/sgkang/Projects/simpeg/SimPEG/EM/Static/DC/IODC.py:232: UserWarning: code under construction - API might change in the future\n",
      "  \"code under construction - API might change in the future\"\n"
     ]
    }
   ],
   "source": [
    "IO_3d = DC.IO()\n",
    "survey_3d = IO_3d.from_ambn_locations_to_survey(\n",
    "    survey_type='dipole-dipole',\n",
    "    a_locations=output_simulation['a_locations'].value,\n",
    "    b_locations=output_simulation['b_locations'].value,\n",
    "    m_locations=output_simulation['m_locations'].value,\n",
    "    n_locations=output_simulation['n_locations'].value,\n",
    "    data_dc=output_simulation['dc_data'].value,\n",
    "    data_dc_type='volt',\n",
    "    data_sip=output_simulation['sip_data'].value,    \n",
    "    data_sip_type='volt',\n",
    "    line_inds = output_simulation['line_inds'].value,\n",
    "    dimension=3\n",
    ")\n",
    "mesh_3d, actind = IO_3d.set_mesh(dx=25., dy=50., dz=15., dimension=3)\n",
    "actMap = Maps.InjectActiveCells(mesh_3d, actind, valInactive=np.log(1e-8))\n",
    "sigmaMap = Maps.ExpMap(mesh_3d)*actMap\n",
    "\n",
    "problem_dc = DC.Problem3D_N(\n",
    "    mesh_3d, sigmaMap=sigmaMap,\n",
    "    storeJ=True,\n",
    "    Solver=PardisoSolver\n",
    ")\n",
    "problem_dc.pair(survey_3d)\n",
    "core_3d_inds, mesh_3d_core = Utils.ExtractCoreMesh(IO_3d.xyzlim, mesh_3d)\n"
   ]
  },
  {
   "cell_type": "markdown",
   "metadata": {},
   "source": [
    "### Plot voltages and apparent resistivities"
   ]
  },
  {
   "cell_type": "code",
   "execution_count": 10,
   "metadata": {},
   "outputs": [],
   "source": [
    "geometric_factor = survey_3d.set_geometric_factor(\n",
    "    data_type=\"volt\",\n",
    "    survey_type='dipole-dipole',\n",
    "    space_type='half-space'\n",
    ")"
   ]
  },
  {
   "cell_type": "code",
   "execution_count": 11,
   "metadata": {},
   "outputs": [
    {
     "data": {
      "image/png": "[encoded data removed]",
      "text/plain": [
       "<Figure size 432x288 with 1 Axes>"
      ]
     },
     "metadata": {
      "needs_background": "light"
     },
     "output_type": "display_data"
    }
   ],
   "source": [
    "out = hist(np.log10(abs(IO_3d.voltages)), bins=100)"
   ]
  },
  {
   "cell_type": "code",
   "execution_count": 12,
   "metadata": {},
   "outputs": [
    {
     "data": {
      "image/png": "[encoded data removed]",
      "text/plain": [
       "<Figure size 432x288 with 1 Axes>"
      ]
     },
     "metadata": {
      "needs_background": "light"
     },
     "output_type": "display_data"
    }
   ],
   "source": [
    "out = hist(np.log10(abs(IO_3d.voltages/IO_3d.G)), bins=100)"
   ]
  },
  {
   "cell_type": "markdown",
   "metadata": {},
   "source": [
    "## Run DC inversion"
   ]
  },
  {
   "cell_type": "code",
   "execution_count": 13,
   "metadata": {},
   "outputs": [],
   "source": [
    "import numpy as np\n",
    "from SimPEG import (Maps, DataMisfit, Regularization,\n",
    "                    Optimization, Inversion, InvProblem, Directives)\n",
    "\n",
    "\n",
    "def run_inversion(\n",
    "    m0, survey, actind, mesh,\n",
    "    std, eps,\n",
    "    maxIter=15, beta0_ratio=1e0,\n",
    "    coolingFactor=5, coolingRate=2,\n",
    "    upper=np.inf, lower=-np.inf,\n",
    "    use_sensitivity_weight=True,\n",
    "    alpha_s=1e-4,\n",
    "    alpha_x=1.,\n",
    "    alpha_y=1.,\n",
    "    alpha_z=1.,\n",
    "):\n",
    "    \"\"\"\n",
    "    Run DC inversion\n",
    "    \"\"\"\n",
    "    dmisfit = DataMisfit.l2_DataMisfit(survey)\n",
    "    uncert = abs(survey.dobs) * std + eps\n",
    "    dmisfit.W = 1./uncert\n",
    "    # Map for a regularization\n",
    "    regmap = Maps.IdentityMap(nP=int(actind.sum()))\n",
    "    # Related to inversion\n",
    "    if use_sensitivity_weight:\n",
    "        reg = Regularization.Sparse(mesh, indActive=actind, mapping=regmap)\n",
    "        reg.alpha_s = alpha_s\n",
    "        reg.alpha_x = alpha_x\n",
    "        reg.alpha_y = alpha_y\n",
    "        reg.alpha_z = alpha_z\n",
    "    else:\n",
    "        reg = Regularization.Sparse(mesh, indActive=actind, mapping=regmap)\n",
    "        reg.alpha_s = alpha_s\n",
    "        reg.alpha_x = alpha_x\n",
    "        reg.alpha_y = alpha_y\n",
    "        reg.alpha_z = alpha_z\n",
    "\n",
    "    opt = Optimization.ProjectedGNCG(maxIter=maxIter, upper=upper, lower=lower)\n",
    "    invProb = InvProblem.BaseInvProblem(dmisfit, reg, opt)\n",
    "    beta = Directives.BetaSchedule(\n",
    "        coolingFactor=coolingFactor, coolingRate=coolingRate\n",
    "    )\n",
    "    betaest = Directives.BetaEstimate_ByEig(beta0_ratio=beta0_ratio)\n",
    "    target = Directives.TargetMisfit()\n",
    "    # Need to have basice saving function\n",
    "    update_Jacobi = Directives.UpdatePreconditioner()\n",
    "    reg.norms = np.c_[0, 1, 1, 1]\n",
    "    IRLS = Directives.Update_IRLS(\n",
    "        maxIRLSiter=20, minGNiter=1,\n",
    "        betaSearch=False, fix_Jmatrix=True\n",
    "    )    \n",
    "    if use_sensitivity_weight:\n",
    "        updateSensW = Directives.UpdateSensitivityWeights()\n",
    "        directiveList = [\n",
    "            beta, betaest, updateSensW, IRLS\n",
    "        ]\n",
    "    else:\n",
    "        directiveList = [\n",
    "            betaest, IRLS\n",
    "        ]\n",
    "    inv = Inversion.BaseInversion(\n",
    "        invProb, directiveList=directiveList\n",
    "        )\n",
    "    opt.LSshorten = 0.5\n",
    "    opt.remember('xc')\n",
    "\n",
    "    # Run inversion\n",
    "    mopt = inv.run(m0)\n",
    "    return mopt, invProb.dpred\n",
    "\n"
   ]
  },
  {
   "cell_type": "code",
   "execution_count": 14,
   "metadata": {
    "scrolled": false
   },
   "outputs": [
    {
     "name": "stdout",
     "output_type": "stream",
     "text": [
      "SimPEG.DataMisfit.l2_DataMisfit assigning default std of 5%\n",
      "SimPEG.DataMisfit.l2_DataMisfit assigning default eps of 1e-5 * ||dobs||\n",
      "SimPEG.InvProblem will set Regularization.mref to m0.\n",
      "\n",
      "    SimPEG.InvProblem is setting bfgsH0 to the inverse of the eval2Deriv.\n",
      "    ***Done using same Solver and solverOpts as the problem***\n"
     ]
    },
    {
     "name": "stderr",
     "output_type": "stream",
     "text": [
      "/Users/sgkang/Projects/simpeg/SimPEG/Directives.py:935: UserWarning: Without a Linear preconditioner, convergence may be slow. Consider adding `Directives.UpdatePreconditioner` to your directives list\n",
      "  \"Without a Linear preconditioner, convergence may be slow. \"\n"
     ]
    },
    {
     "name": "stdout",
     "output_type": "stream",
     "text": [
      "model has any nan: 0\n",
      "=============================== Projected GNCG ===============================\n",
      "  #     beta     phi_d     phi_m       f      |proj(x-g)-x|  LS    Comment   \n",
      "-----------------------------------------------------------------------------\n",
      "x0 has any nan: 0\n",
      "   0  2.34e-05  9.80e+03  0.00e+00  9.80e+03    1.28e+03      0              \n",
      "   1  1.17e-05  1.84e+03  4.01e+01  1.84e+03    4.29e+02      0              \n",
      "   2  1.17e-06  4.62e+02  4.83e+01  4.62e+02    1.67e+02      0              \n",
      "Reached starting chifact with l2-norm regularization: Start IRLS steps...\n",
      "eps_p: 1.6334819317450169 eps_q: 1.6334819317450169\n",
      ">> Fix Jmatrix\n",
      "delta phim:    inf\n",
      "   3  5.84e-07  3.08e+02  6.26e+01  3.08e+02    8.91e+01      0              \n",
      ">> Fix Jmatrix\n",
      "delta phim: 4.563e-01\n",
      "   4  1.92e-07  2.62e+02  6.78e+01  2.62e+02    6.05e+01      0              \n",
      ">> Fix Jmatrix\n",
      "delta phim: 3.426e-01\n",
      "   5  3.28e-07  2.37e+02  7.46e+01  2.37e+02    4.41e+01      0              \n",
      ">> Fix Jmatrix\n",
      "delta phim: 3.130e-01\n",
      "   6  1.15e-07  2.25e+02  8.16e+01  2.25e+02    3.78e+01      0              \n",
      ">> Fix Jmatrix\n",
      "delta phim: 3.003e-01\n",
      "   7  2.02e-07  2.23e+02  8.78e+01  2.23e+02    4.18e+01      0              \n",
      ">> Fix Jmatrix\n",
      "delta phim: 2.280e-01\n",
      "   8  7.14e-08  2.19e+02  9.49e+01  2.19e+02    5.25e+01      0              \n",
      ">> Fix Jmatrix\n",
      "delta phim: 2.267e-01\n",
      "   9  1.27e-07  2.15e+02  1.02e+02  2.15e+02    4.24e+01      0              \n",
      ">> Fix Jmatrix\n",
      "delta phim: 2.074e-01\n",
      "  10  4.62e-08  2.08e+02  1.10e+02  2.08e+02    4.01e+01      0              \n",
      ">> Fix Jmatrix\n",
      "delta phim: 1.785e-01\n",
      "  11  8.45e-08  2.03e+02  1.17e+02  2.03e+02    4.28e+01      0              \n",
      ">> Fix Jmatrix\n",
      "delta phim: 1.706e-01\n",
      "  12  3.10e-08  2.03e+02  1.22e+02  2.03e+02    3.98e+01      0              \n",
      ">> Fix Jmatrix\n",
      "delta phim: 1.385e-01\n",
      "  13  5.75e-08  1.97e+02  1.28e+02  1.97e+02    3.48e+01      0              \n",
      ">> Fix Jmatrix\n",
      "delta phim: 1.435e-01\n",
      "  14  2.14e-08  1.96e+02  1.31e+02  1.96e+02    3.52e+01      0              \n",
      ">> Fix Jmatrix\n",
      "delta phim: 1.148e-01\n",
      "  15  3.98e-08  1.96e+02  1.35e+02  1.96e+02    3.70e+01      0   Skip BFGS  \n",
      "------------------------- STOP! -------------------------\n",
      "1 : |fc-fOld| = 3.9962e-01 <= tolF*(1+|f0|) = 9.8050e+02\n",
      "1 : |xc-x_last| = 1.7539e-01 <= tolX*(1+|x0|) = 1.4004e+02\n",
      "0 : |proj(x-g)-x|    = 3.6965e+01 <= tolG          = 1.0000e-01\n",
      "0 : |proj(x-g)-x|    = 3.6965e+01 <= 1e3*eps       = 1.0000e-02\n",
      "1 : maxIter   =      15    <= iter          =     15\n",
      "------------------------- DONE! -------------------------\n"
     ]
    }
   ],
   "source": [
    "run = False\n",
    "if run:\n",
    "    survey_3d.dobs = IO_3d.voltages\n",
    "    m0_dc = np.ones(actind.sum())*np.log(1./1e3)\n",
    "    mopt_dc, pred_dc = run_inversion(\n",
    "        m0_dc, survey_3d, actind, mesh_3d, 0.05, 10**-3.5, use_sensitivity_weight=True,\n",
    "        alpha_y=1., alpha_s=0.1, maxIter=15\n",
    "    )"
   ]
  },
  {
   "cell_type": "markdown",
   "metadata": {},
   "source": [
    "### Plot recovered resistivity model"
   ]
  },
  {
   "cell_type": "code",
   "execution_count": 1,
   "metadata": {
    "scrolled": false
   },
   "outputs": [],
   "source": [
    "# import matplotlib\n",
    "# matplotlib.rcParams['font.size'] = 14\n",
    "# sigma_est = sigmaMap * mopt_dc\n",
    "# yc = 0\n",
    "# indy = int(np.argmin(abs(mesh_3d_core.vectorCCy-yc)))\n",
    "# zc = -70\n",
    "# indz = int(np.argmin(abs(mesh_3d_core.vectorCCz-zc)))\n",
    "\n",
    "# fig = plt.figure(figsize=(10, 5))\n",
    "# gs = gridspec.GridSpec(1, 8)\n",
    "# ax1 = plt.subplot(gs[0, 3:])\n",
    "# ax2 = plt.subplot(gs[0, :3])\n",
    "# vmin, vmax = 300, 5000.\n",
    "# out = mesh_3d_core.plotSlice(\n",
    "#     1./sigma_est[core_3d_inds], grid=False, normal=\"Y\", clim=(vmin, vmax), pcolorOpts={'cmap':'viridis', 'norm':colors.LogNorm()}, ax=ax1, ind=indy\n",
    "# )\n",
    "# ax1.set_aspect(\"equal\")\n",
    "# ax1.set_title((\"y=%.1f m\")%(mesh_3d_core.vectorCCy[indy]))\n",
    "# out = mesh_3d_core.plotSlice(\n",
    "#     1./sigma_est[core_3d_inds], grid=False, normal=\"Z\", clim=(vmin, vmax), ind=indz, pcolorOpts={'cmap':'viridis', 'norm':colors.LogNorm()}, \n",
    "#     ax=ax2\n",
    "# )\n",
    "# ax2.set_aspect(1)\n",
    "# ax2.set_title((\"z=%.1f m\")%(mesh_3d_core.vectorCCz[indz]))\n",
    "# ax2.plot(IO_3d.electrode_locations[:,0], IO_3d.electrode_locations[:,1], 'wx', markeredgewidth=1.)\n",
    "# cbaxes = fig.add_axes([0.98, 0.35, 0.02, 0.3]) \n",
    "# cb=plt.colorbar(\n",
    "#     out[0], cax=cbaxes, orientation=\"vertical\", ax=ax1, ticks=[300, 1000., 5000.]\n",
    "# )\n",
    "\n",
    "# cb.set_ticklabels(np.array([300, 1000., 5000.], dtype=int))\n",
    "# cb.set_label(\"Resistivity ($\\Omega$m)\")\n",
    "# for ax in [ax1, ax2]:\n",
    "#     ax.set_xlim(-500, 500)\n",
    "# #     ax.set_ylim(-500, 500)    \n",
    "# plt.tight_layout()"
   ]
  },
  {
   "cell_type": "code",
   "execution_count": 2,
   "metadata": {},
   "outputs": [],
   "source": [
    "# !rm -f output_dc_inversion.h5"
   ]
  },
  {
   "cell_type": "code",
   "execution_count": 3,
   "metadata": {},
   "outputs": [],
   "source": [
    "# import h5py\n",
    "# mesh_name = 'mesh_3d_dc.txt'\n",
    "# mesh_3d.writeUBC(mesh_name)\n",
    "# output_dc_inversion = {\n",
    "#     'mesh_name': mesh_name,\n",
    "#     'sigma': sigma_est,\n",
    "#     'dc_data': survey_3d.dobs,\n",
    "#     'dc_data_pred': pred_dc\n",
    "# }\n",
    "# def save_dict_to_hdf5(fname, dictionary):\n",
    "#     \"\"\"\n",
    "#     Save a dictionary to hdf5\n",
    "#     \"\"\"\n",
    "#     f = h5py.File(fname, \"w\")\n",
    "#     for key in dictionary.keys():\n",
    "#         dset = f.create_dataset(key, data=dictionary[key])\n",
    "#     f.close()\n",
    "# save_dict_to_hdf5('output_dc_inversion.h5', output_dc_inversion)"
   ]
  }
 ],
 "metadata": {
  "anaconda-cloud": {},
  "kernelspec": {
   "display_name": "Python 3",
   "language": "python",
   "name": "python3"
  },
  "language_info": {
   "codemirror_mode": {
    "name": "ipython",
    "version": 3
   },
   "file_extension": ".py",
   "mimetype": "text/x-python",
   "name": "python",
   "nbconvert_exporter": "python",
   "pygments_lexer": "ipython3",
   "version": "3.7.3"
  }
 },
 "nbformat": 4,
 "nbformat_minor": 1
}
